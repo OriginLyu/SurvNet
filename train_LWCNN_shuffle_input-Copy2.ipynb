{
 "cells": [
  {
   "cell_type": "markdown",
   "metadata": {
    "id": "view-in-github"
   },
   "source": [
    "<a href=\"https://colab.research.google.com/github/shalabh147/Brain-Tumor-Segmentation-and-Survival-Prediction-using-Deep-Neural-Networks/blob/master/surv_pred_classification.ipynb\" target=\"_parent\"><img src=\"https://colab.research.google.com/assets/colab-badge.svg\" alt=\"Open In Colab\"/></a>"
   ]
  },
  {
   "cell_type": "code",
   "execution_count": 1,
   "metadata": {
    "_cell_guid": "b1076dfc-b9ad-4769-8c92-a6c4dae69d19",
    "_uuid": "8f2839f25d086af736a60e9eeb907d3b93b6e0e5",
    "executionInfo": {
     "elapsed": 5122,
     "status": "ok",
     "timestamp": 1649405131451,
     "user": {
      "displayName": "Qiyuan Lyu",
      "userId": "17924735661076172645"
     },
     "user_tz": -60
    },
    "id": "kFz1BO2pv_dC"
   },
   "outputs": [],
   "source": [
    "#Imports\n",
    "import pandas as pd\n",
    "import os\n",
    "import nibabel as nib\n",
    "import numpy as np\n",
    "import matplotlib.pyplot as plt\n",
    "import csv as csv\n",
    "import pickle\n",
    "import random\n",
    "\n",
    "import tensorflow as tf\n",
    "from tensorflow import keras\n",
    "from tensorflow.keras import backend as K\n",
    "from tensorflow.keras.layers import Input, concatenate, Flatten\n",
    "from tensorflow.keras.layers import Conv2D, Dense, Activation, MaxPooling2D, AveragePooling2D\n",
    "from tensorflow.keras.layers import Dropout, ReLU, LeakyReLU, BatchNormalization\n",
    "\n",
    "from tensorflow.keras.utils import Sequence\n",
    "from tensorflow.keras.models import Model, Sequential, load_model\n",
    "from tensorflow.keras import callbacks\n",
    "from tensorflow.keras.callbacks import ModelCheckpoint\n",
    "from tensorflow.keras import regularizers, initializers, optimizers\n",
    "from tensorflow.keras.optimizers import Adam, SGD\n",
    "\n",
    "import seaborn as sns\n",
    "from sklearn.utils import shuffle\n",
    "from sklearn.metrics import confusion_matrix"
   ]
  },
  {
   "cell_type": "code",
   "execution_count": 2,
   "metadata": {
    "executionInfo": {
     "elapsed": 361,
     "status": "ok",
     "timestamp": 1649405159990,
     "user": {
      "displayName": "Qiyuan Lyu",
      "userId": "17924735661076172645"
     },
     "user_tz": -60
    },
    "id": "22nSR24qgNRB"
   },
   "outputs": [],
   "source": [
    "path_project = '/home/origin/Research/'\n",
    "path_clinical = path_project + 'Data/clinical/Pre-operative_TCGA-GBM/survival_info_all.csv'\n",
    "path_MRI = path_project + 'Data/MRI/Pre-operative/All/'\n",
    "\n",
    "IDs_patients = os.listdir(path_MRI)\n",
    "IDs_patients.sort()\n",
    "count_patients = len(IDs_patients)\n",
    "age_dict = {}\n",
    "OS_dict = {}\n",
    "threshold = 360 # days\n",
    "seg_label = 'GlistrBoost.nii'\n",
    "\n",
    "\n",
    "def standardize(image):\n",
    "  standardized_image = np.zeros(image.shape)\n",
    "  # iterate over the `z` dimension\n",
    "  for z in range(image.shape[2]):\n",
    "    # get a slice of the image at channel c and z-th dimension `z`\n",
    "    image_slice = image[:, :, z]\n",
    "    # subtract the mean from image_slice\n",
    "    centered = image_slice - np.mean(image_slice)\n",
    "    # divide by the standard deviation (only if it is different from zero)\n",
    "    if np.std(centered) != 0:\n",
    "        centered = centered / np.std(centered)\n",
    "    # update  the slice of standardized image with the scaled centered and scaled image\n",
    "    standardized_image[:, :, z] = centered\n",
    "    \n",
    "  return standardized_image"
   ]
  },
  {
   "cell_type": "code",
   "execution_count": 3,
   "metadata": {},
   "outputs": [],
   "source": [
    "dtypes = dict.fromkeys(pd.read_csv(path_clinical, encoding='gbk', nrows=1).columns.tolist(), str)\n",
    "data_clinical = pd.read_csv(path_clinical, encoding='gbk', dtype=dtypes)\n",
    "\n",
    "# produce the dict of age and overall survival\n",
    "head_IDs, head_age, head_OS = list(dtypes.keys())[0], list(dtypes.keys())[1], list(dtypes.keys())[2]\n",
    "cases_IDs = list(data_clinical[head_IDs])\n",
    "cases_age = list(data_clinical[head_age].apply(pd.to_numeric, errors='coerce').fillna(0))\n",
    "cases_OS = list(data_clinical[head_OS].apply(pd.to_numeric, errors='coerce').fillna(0))\n",
    "age_dict = dict(zip(cases_IDs, cases_age))\n",
    "OS_dict = dict(zip(cases_IDs, cases_OS))"
   ]
  },
  {
   "cell_type": "code",
   "execution_count": 4,
   "metadata": {},
   "outputs": [
    {
     "name": "stdout",
     "output_type": "stream",
     "text": [
      "input set:  121\n"
     ]
    }
   ],
   "source": [
    "# set loading\n",
    "input_set_all = os.listdir(path_MRI)\n",
    "input_set = []\n",
    "slice_loc_all = []\n",
    "\n",
    "for IDs in input_set_all:\n",
    "    if IDs in OS_dict.keys():\n",
    "        input_set.append(IDs)\n",
    "        \n",
    "count_patients= len(input_set)\n",
    "input_all = np.zeros((count_patients, 240, 240, 5))\n",
    "age_all = np.zeros((count_patients, 1))\n",
    "ground_truth_all = np.zeros((count_patients, 2))\n",
    "cnt = 0\n",
    "for image_num in range(count_patients):\n",
    "    x = input_set[image_num]\n",
    "    folder_path = path_MRI + x\n",
    "    modalities = os.listdir(folder_path)\n",
    "    modalities.sort()\n",
    "\n",
    "    data = np.zeros((240, 240, 155, 4))\n",
    "    image_data2 = np.zeros((240, 240, 155))\n",
    "    w = 0\n",
    "    for j in range(len(modalities)):\n",
    "        image_path = folder_path + '/' + modalities[j]\n",
    "        if not (image_path.find(seg_label) == -1):\n",
    "            img = nib.load(image_path)\n",
    "            image_data2 = img.get_fdata()\n",
    "            image_data2 = np.asarray(image_data2)\n",
    "            image_data2 = standardize(image_data2)\n",
    "        else:\n",
    "            img = nib.load(image_path)\n",
    "            image_data = img.get_fdata()\n",
    "            image_data = np.asarray(image_data)\n",
    "            image_data = standardize(image_data)\n",
    "            data[:, :, :, w] = image_data\n",
    "            w = w + 1\n",
    "\n",
    "    image_data2[image_data2 == 4] = 3\n",
    "    slice_nonzero = []\n",
    "    width, height, queue = image_data2.shape\n",
    "    for i in range(0, queue, 10):\n",
    "        image_array = image_data2[:, :, i]\n",
    "        slice_nonzero.append(np.count_nonzero(image_array))\n",
    "    slice_nonzero_array = np.array(slice_nonzero)\n",
    "    slice_loc_all.append(slice_nonzero_array.argmax() * 10)\n",
    "\n",
    "    input_all[cnt, :, :, :4] = data[:, :, slice_loc_all[image_num], :]\n",
    "    input_all[cnt, :, :, 4] = image_data2[:, :, slice_loc_all[image_num]]\n",
    "    age_all[cnt, 0] = float(age_dict[x])\n",
    "    OS_all = int(OS_dict[x])\n",
    "\n",
    "    if int(OS_all) < threshold:\n",
    "        ground_truth_all[cnt, 0] = 1\n",
    "    else:\n",
    "        ground_truth_all[cnt, 1] = 1\n",
    "    cnt += 1\n",
    "    \n",
    "print('input set: ', len(input_all))"
   ]
  },
  {
   "cell_type": "code",
   "execution_count": null,
   "metadata": {},
   "outputs": [],
   "source": [
    "# number_training = 104\n",
    "# number_val = 17\n",
    "\n",
    "# validation_index = random.sample(range(0, len(input_all)), number_val)\n",
    "# validation_index.sort()\n",
    "# print(validation_index)"
   ]
  },
  {
   "cell_type": "code",
   "execution_count": null,
   "metadata": {},
   "outputs": [],
   "source": [
    "# input_training = np.zeros((number_training, 240, 240, 5))\n",
    "# age_training = np.zeros((number_training, 1))\n",
    "# ground_truth_training = np.zeros((number_training, 2))\n",
    "\n",
    "# input_val = np.zeros((number_val, 240, 240, 5))\n",
    "# age_val = np.zeros((number_val, 1))\n",
    "# ground_truth_val = np.zeros((number_val, 2))\n",
    "\n",
    "# index_training = 0\n",
    "# index_val = 0\n",
    "\n",
    "# for i in range(count_patients):\n",
    "#     if i in validation_index:\n",
    "#         input_val[index_val, :, :, :] = input_all[i, :, :, :]\n",
    "#         age_val[index_val, 0] = age_all[i, 0]\n",
    "#         ground_truth_val[index_val, :] = ground_truth_all[i, :]\n",
    "#     else:\n",
    "#         input_training[index_training, :, :, :] = input_all[i, :, :, :]\n",
    "#         age_training[index_training, 0] = age_all[i, 0]\n",
    "#         ground_truth_training[index_training, :] = ground_truth_all[i, :]\n",
    "        \n",
    "# print(len(input_training), len(age_training), len(ground_truth_training))\n",
    "# print(len(input_val), len(age_val), len(ground_truth_val))"
   ]
  },
  {
   "cell_type": "code",
   "execution_count": null,
   "metadata": {
    "colab": {
     "base_uri": "https://localhost:8080/"
    },
    "executionInfo": {
     "elapsed": 329,
     "status": "ok",
     "timestamp": 1649405183523,
     "user": {
      "displayName": "Qiyuan Lyu",
      "userId": "17924735661076172645"
     },
     "user_tz": -60
    },
    "id": "JeiP17dWv_dT",
    "outputId": "e116536e-6ae2-46b9-c559-b736266af252"
   },
   "outputs": [],
   "source": [
    "cnt = 0\n",
    "for patients_num in range(len(IDs_patients)):\n",
    "  image1 = IDs_patients[patients_num]\n",
    "  if image1 in OS_dict:\n",
    "    cnt += 1\n",
    "print('the number of patients who have age and OS information: ', cnt)\n",
    "\n",
    "print('the slices of 3D scans are: ', slice_loc_all)"
   ]
  },
  {
   "cell_type": "code",
   "execution_count": 5,
   "metadata": {
    "executionInfo": {
     "elapsed": 340,
     "status": "ok",
     "timestamp": 1649409334720,
     "user": {
      "displayName": "Qiyuan Lyu",
      "userId": "17924735661076172645"
     },
     "user_tz": -60
    },
    "id": "vqnbcxP_v_dK"
   },
   "outputs": [],
   "source": [
    "def SurvPredNet(input_img, age_m):\n",
    "    \n",
    "    model = Sequential()\n",
    "    \n",
    "#     a1 = Conv2D(16,kernel_size = (3,3) , padding='same')(input_img)\n",
    "#     a1 = Activation('relu')(a1)\n",
    "#     a1 = Conv2D(16,kernel_size = (3,3) , padding='same')(a1)\n",
    "#     a1 = Activation('relu')(a1)\n",
    "#     a1 = MaxPooling2D(pool_size = (2,2) , strides = (2,2))(a1)\n",
    "    \n",
    "#     a1 = Conv2D(24,kernel_size = (3,3) , padding='same')(a1)\n",
    "#     a1 = Activation('relu')(a1)\n",
    "#     a1 = Conv2D(24,kernel_size = (3,3) , padding='same')(a1)\n",
    "#     a1 = Activation('relu')(a1)\n",
    "#     a1 = MaxPooling2D(pool_size = (2,2) , strides = (2,2))(a1)\n",
    "    \n",
    "#     a1 = Conv2D(32,kernel_size = (3,3) , padding='same')(a1)\n",
    "#     a1 = Activation('relu')(a1)\n",
    "#     a1 = Conv2D(32,kernel_size = (3,3) , padding='same')(a1)\n",
    "#     a1 = Activation('relu')(a1)\n",
    "#     a1 = Conv2D(32,kernel_size = (3,3) , padding='same')(a1)\n",
    "#     a1 = Activation('relu')(a1)\n",
    "#     a1 = MaxPooling2D(pool_size = (2,2) , strides = (2,2))(a1)\n",
    "    \n",
    "#     a1 = Conv2D(64,kernel_size = (3,3) , padding='same')(a1)\n",
    "#     a1 = Activation('relu')(a1)\n",
    "#     a1 = Conv2D(64,kernel_size = (3,3) , padding='same')(a1)\n",
    "#     a1 = Activation('relu')(a1)\n",
    "#     a1 = Conv2D(64,kernel_size = (3,3) , padding='same')(a1)\n",
    "#     a1 = Activation('relu')(a1)\n",
    "#     a1 = MaxPooling2D(pool_size = (2,2) , strides = (2,2))(a1)\n",
    "    \n",
    "    a1 = Conv2D(32,kernel_size = (3,3) , padding='same')(input_img)\n",
    "    a1 = Activation('relu')(a1)\n",
    "    a1 = Conv2D(32,kernel_size = (3,3) , padding='same')(a1)\n",
    "    a1 = Activation('relu')(a1)\n",
    "    a1 = Conv2D(32,kernel_size = (3,3) , padding='same')(a1)\n",
    "    a1 = Activation('relu')(a1)\n",
    "    a1 = MaxPooling2D(pool_size = (2,2) , strides = (2,2))(a1)\n",
    "    \n",
    "    a1 = Flatten()(a1)\n",
    "    a1 = concatenate([a1,age_m])\n",
    "    \n",
    "    a1 = Dense(32,activation = 'relu')(a1)\n",
    "    a1 = Dense(16,activation = 'relu')(a1)\n",
    "    outputs = Dense(2,activation = 'softmax')(a1)\n",
    "    \n",
    "    model = Model(inputs = [input_img, age_m] , outputs = outputs)\n",
    "    return model\n",
    "\n",
    "# saveModel = path_project + 'Thesis/Experiments_Record/my_code/20220815/1/Model/'\n",
    "# checkpoint = callbacks.ModelCheckpoint(saveModel+'weights.{epoch:02d}.h5', monitor='val_accuracy', verbose=0,\n",
    "#                                 save_best_only=True,\n",
    "#                                 save_weights_only=False, mode='max')"
   ]
  },
  {
   "cell_type": "code",
   "execution_count": 70,
   "metadata": {
    "colab": {
     "base_uri": "https://localhost:8080/"
    },
    "executionInfo": {
     "elapsed": 1036,
     "status": "ok",
     "timestamp": 1649410241192,
     "user": {
      "displayName": "Qiyuan Lyu",
      "userId": "17924735661076172645"
     },
     "user_tz": -60
    },
    "id": "r4gGUwZFv_dN",
    "outputId": "9a041f55-5ce6-45ce-9462-24ecf6699a2d"
   },
   "outputs": [
    {
     "name": "stdout",
     "output_type": "stream",
     "text": [
      "Model: \"model_28\"\n",
      "__________________________________________________________________________________________________\n",
      " Layer (type)                   Output Shape         Param #     Connected to                     \n",
      "==================================================================================================\n",
      " input_57 (InputLayer)          [(None, 240, 240, 5  0           []                               \n",
      "                                )]                                                                \n",
      "                                                                                                  \n",
      " conv2d_84 (Conv2D)             (None, 240, 240, 32  1472        ['input_57[0][0]']               \n",
      "                                )                                                                 \n",
      "                                                                                                  \n",
      " activation_84 (Activation)     (None, 240, 240, 32  0           ['conv2d_84[0][0]']              \n",
      "                                )                                                                 \n",
      "                                                                                                  \n",
      " conv2d_85 (Conv2D)             (None, 240, 240, 32  9248        ['activation_84[0][0]']          \n",
      "                                )                                                                 \n",
      "                                                                                                  \n",
      " activation_85 (Activation)     (None, 240, 240, 32  0           ['conv2d_85[0][0]']              \n",
      "                                )                                                                 \n",
      "                                                                                                  \n",
      " conv2d_86 (Conv2D)             (None, 240, 240, 32  9248        ['activation_85[0][0]']          \n",
      "                                )                                                                 \n",
      "                                                                                                  \n",
      " activation_86 (Activation)     (None, 240, 240, 32  0           ['conv2d_86[0][0]']              \n",
      "                                )                                                                 \n",
      "                                                                                                  \n",
      " max_pooling2d_28 (MaxPooling2D  (None, 120, 120, 32  0          ['activation_86[0][0]']          \n",
      " )                              )                                                                 \n",
      "                                                                                                  \n",
      " flatten_28 (Flatten)           (None, 460800)       0           ['max_pooling2d_28[0][0]']       \n",
      "                                                                                                  \n",
      " input_58 (InputLayer)          [(None, 1)]          0           []                               \n",
      "                                                                                                  \n",
      " concatenate_28 (Concatenate)   (None, 460801)       0           ['flatten_28[0][0]',             \n",
      "                                                                  'input_58[0][0]']               \n",
      "                                                                                                  \n",
      " dense_84 (Dense)               (None, 32)           14745664    ['concatenate_28[0][0]']         \n",
      "                                                                                                  \n",
      " dense_85 (Dense)               (None, 16)           528         ['dense_84[0][0]']               \n",
      "                                                                                                  \n",
      " dense_86 (Dense)               (None, 2)            34          ['dense_85[0][0]']               \n",
      "                                                                                                  \n",
      "==================================================================================================\n",
      "Total params: 14,766,194\n",
      "Trainable params: 14,766,194\n",
      "Non-trainable params: 0\n",
      "__________________________________________________________________________________________________\n"
     ]
    }
   ],
   "source": [
    "lr = 1e-5\n",
    "decay_rate = 2e-7\n",
    "input_img = Input((240,240,5))\n",
    "age_m = Input(1)\n",
    "model = SurvPredNet(input_img, age_m)\n",
    "\n",
    "# accu_metric = 'categorical_accuracy'\n",
    "accu_metric = 'accuracy'\n",
    "sgd = optimizers.SGD(learning_rate=lr, decay=decay_rate, momentum=0.9, nesterov=True)\n",
    "model.compile(loss='categorical_crossentropy', optimizer=sgd, metrics=accu_metric)\n",
    "# model.compile(loss='categorical_crossentropy', optimizer='adam', metrics=accu_metric)\n",
    "# model.compile(loss='categorical_crossentropy',\n",
    "#              optimizer=tf.keras.optimizers.SGD(learning_rate =0.0001),\n",
    "#              metrics=[tf.keras.metrics.AUC()])\n",
    "model.summary()"
   ]
  },
  {
   "cell_type": "code",
   "execution_count": 71,
   "metadata": {
    "colab": {
     "base_uri": "https://localhost:8080/"
    },
    "executionInfo": {
     "elapsed": 377051,
     "status": "ok",
     "timestamp": 1649410620274,
     "user": {
      "displayName": "Qiyuan Lyu",
      "userId": "17924735661076172645"
     },
     "user_tz": -60
    },
    "id": "9YfWpxekY7b_",
    "outputId": "566d764a-b9d6-4998-ca36-e7246f356ecf"
   },
   "outputs": [
    {
     "name": "stdout",
     "output_type": "stream",
     "text": [
      "Epoch 1/80\n",
      "7/7 [==============================] - 1s 59ms/step - loss: 0.7293 - accuracy: 0.4608 - val_loss: 0.6838 - val_accuracy: 0.5263\n",
      "Epoch 2/80\n",
      "7/7 [==============================] - 0s 45ms/step - loss: 0.7071 - accuracy: 0.4804 - val_loss: 0.6851 - val_accuracy: 0.5789\n",
      "Epoch 3/80\n",
      "7/7 [==============================] - 0s 44ms/step - loss: 0.6774 - accuracy: 0.5490 - val_loss: 0.7047 - val_accuracy: 0.4737\n",
      "Epoch 4/80\n",
      "7/7 [==============================] - 0s 48ms/step - loss: 0.6543 - accuracy: 0.6471 - val_loss: 0.7136 - val_accuracy: 0.5263\n",
      "Epoch 5/80\n",
      "7/7 [==============================] - 0s 45ms/step - loss: 0.6296 - accuracy: 0.6373 - val_loss: 0.6908 - val_accuracy: 0.6316\n",
      "Epoch 6/80\n",
      "7/7 [==============================] - 0s 46ms/step - loss: 0.6068 - accuracy: 0.7157 - val_loss: 0.6622 - val_accuracy: 0.5789\n",
      "Epoch 7/80\n",
      "7/7 [==============================] - 0s 46ms/step - loss: 0.5790 - accuracy: 0.7843 - val_loss: 0.6878 - val_accuracy: 0.4737\n",
      "Epoch 8/80\n",
      "7/7 [==============================] - 0s 46ms/step - loss: 0.5635 - accuracy: 0.7745 - val_loss: 0.6739 - val_accuracy: 0.5263\n",
      "Epoch 9/80\n",
      "7/7 [==============================] - 0s 45ms/step - loss: 0.5573 - accuracy: 0.8235 - val_loss: 0.6586 - val_accuracy: 0.6842\n",
      "Epoch 10/80\n",
      "7/7 [==============================] - 0s 45ms/step - loss: 0.5231 - accuracy: 0.7941 - val_loss: 0.6764 - val_accuracy: 0.4737\n",
      "Epoch 11/80\n",
      "7/7 [==============================] - 0s 44ms/step - loss: 0.4965 - accuracy: 0.8529 - val_loss: 0.6833 - val_accuracy: 0.5263\n",
      "Epoch 12/80\n",
      "7/7 [==============================] - 0s 46ms/step - loss: 0.4756 - accuracy: 0.8824 - val_loss: 0.6731 - val_accuracy: 0.5789\n",
      "Epoch 13/80\n",
      "7/7 [==============================] - 0s 46ms/step - loss: 0.4619 - accuracy: 0.8824 - val_loss: 0.6742 - val_accuracy: 0.6316\n",
      "Epoch 14/80\n",
      "7/7 [==============================] - 0s 44ms/step - loss: 0.4428 - accuracy: 0.8824 - val_loss: 0.6800 - val_accuracy: 0.5789\n",
      "Epoch 15/80\n",
      "7/7 [==============================] - 0s 45ms/step - loss: 0.4354 - accuracy: 0.8725 - val_loss: 0.6865 - val_accuracy: 0.6842\n",
      "Epoch 16/80\n",
      "7/7 [==============================] - 0s 45ms/step - loss: 0.4261 - accuracy: 0.9020 - val_loss: 0.6698 - val_accuracy: 0.6316\n",
      "Epoch 17/80\n",
      "7/7 [==============================] - 0s 45ms/step - loss: 0.4142 - accuracy: 0.8725 - val_loss: 0.6672 - val_accuracy: 0.5789\n",
      "Epoch 18/80\n",
      "7/7 [==============================] - 0s 46ms/step - loss: 0.3817 - accuracy: 0.9216 - val_loss: 0.6706 - val_accuracy: 0.5789\n",
      "Epoch 19/80\n",
      "7/7 [==============================] - 0s 46ms/step - loss: 0.3732 - accuracy: 0.9314 - val_loss: 0.6691 - val_accuracy: 0.5789\n",
      "Epoch 20/80\n",
      "7/7 [==============================] - 0s 45ms/step - loss: 0.3555 - accuracy: 0.9314 - val_loss: 0.6622 - val_accuracy: 0.6316\n",
      "Epoch 21/80\n",
      "7/7 [==============================] - 0s 47ms/step - loss: 0.3516 - accuracy: 0.9510 - val_loss: 0.6627 - val_accuracy: 0.6316\n",
      "Epoch 22/80\n",
      "7/7 [==============================] - 0s 46ms/step - loss: 0.3311 - accuracy: 0.9412 - val_loss: 0.6698 - val_accuracy: 0.6316\n",
      "Epoch 23/80\n",
      "7/7 [==============================] - 0s 46ms/step - loss: 0.3260 - accuracy: 0.9608 - val_loss: 0.6640 - val_accuracy: 0.7368\n",
      "Epoch 24/80\n",
      "7/7 [==============================] - 0s 47ms/step - loss: 0.3182 - accuracy: 0.9608 - val_loss: 0.6602 - val_accuracy: 0.6842\n",
      "Epoch 25/80\n",
      "7/7 [==============================] - 0s 45ms/step - loss: 0.2996 - accuracy: 0.9608 - val_loss: 0.6642 - val_accuracy: 0.6316\n",
      "Epoch 26/80\n",
      "7/7 [==============================] - 0s 45ms/step - loss: 0.2888 - accuracy: 0.9706 - val_loss: 0.6656 - val_accuracy: 0.6316\n",
      "Epoch 27/80\n",
      "7/7 [==============================] - 0s 45ms/step - loss: 0.2872 - accuracy: 0.9706 - val_loss: 0.6653 - val_accuracy: 0.6842\n",
      "Epoch 28/80\n",
      "7/7 [==============================] - 0s 45ms/step - loss: 0.2761 - accuracy: 0.9902 - val_loss: 0.6661 - val_accuracy: 0.6842\n",
      "Epoch 29/80\n",
      "7/7 [==============================] - 0s 45ms/step - loss: 0.2666 - accuracy: 0.9804 - val_loss: 0.6654 - val_accuracy: 0.7368\n",
      "Epoch 30/80\n",
      "7/7 [==============================] - 0s 45ms/step - loss: 0.2580 - accuracy: 0.9706 - val_loss: 0.6675 - val_accuracy: 0.6842\n",
      "Epoch 31/80\n",
      "7/7 [==============================] - 0s 46ms/step - loss: 0.2504 - accuracy: 0.9902 - val_loss: 0.6646 - val_accuracy: 0.6842\n",
      "Epoch 32/80\n",
      "7/7 [==============================] - 0s 47ms/step - loss: 0.2449 - accuracy: 0.9902 - val_loss: 0.6682 - val_accuracy: 0.6842\n",
      "Epoch 33/80\n",
      "7/7 [==============================] - 0s 46ms/step - loss: 0.2372 - accuracy: 0.9902 - val_loss: 0.6687 - val_accuracy: 0.6842\n",
      "Epoch 34/80\n",
      "7/7 [==============================] - 0s 46ms/step - loss: 0.2340 - accuracy: 1.0000 - val_loss: 0.6647 - val_accuracy: 0.6842\n",
      "Epoch 35/80\n",
      "7/7 [==============================] - 0s 45ms/step - loss: 0.2232 - accuracy: 0.9902 - val_loss: 0.6696 - val_accuracy: 0.6842\n",
      "Epoch 36/80\n",
      "7/7 [==============================] - 0s 45ms/step - loss: 0.2153 - accuracy: 1.0000 - val_loss: 0.6707 - val_accuracy: 0.6842\n",
      "Epoch 37/80\n",
      "7/7 [==============================] - 0s 46ms/step - loss: 0.2120 - accuracy: 1.0000 - val_loss: 0.6698 - val_accuracy: 0.7368\n",
      "Epoch 38/80\n",
      "7/7 [==============================] - 0s 46ms/step - loss: 0.2035 - accuracy: 1.0000 - val_loss: 0.6678 - val_accuracy: 0.7368\n",
      "Epoch 39/80\n",
      "7/7 [==============================] - 0s 48ms/step - loss: 0.1984 - accuracy: 1.0000 - val_loss: 0.6700 - val_accuracy: 0.7368\n",
      "Epoch 40/80\n",
      "7/7 [==============================] - 0s 46ms/step - loss: 0.1974 - accuracy: 1.0000 - val_loss: 0.6679 - val_accuracy: 0.7895\n",
      "Epoch 41/80\n",
      "7/7 [==============================] - 0s 46ms/step - loss: 0.1883 - accuracy: 1.0000 - val_loss: 0.6664 - val_accuracy: 0.7895\n",
      "Epoch 42/80\n",
      "7/7 [==============================] - 0s 46ms/step - loss: 0.1828 - accuracy: 1.0000 - val_loss: 0.6645 - val_accuracy: 0.7368\n",
      "Epoch 43/80\n",
      "7/7 [==============================] - 0s 46ms/step - loss: 0.1787 - accuracy: 1.0000 - val_loss: 0.6664 - val_accuracy: 0.7368\n",
      "Epoch 44/80\n",
      "7/7 [==============================] - 0s 46ms/step - loss: 0.1756 - accuracy: 1.0000 - val_loss: 0.6696 - val_accuracy: 0.7368\n",
      "Epoch 45/80\n",
      "7/7 [==============================] - 0s 47ms/step - loss: 0.1705 - accuracy: 1.0000 - val_loss: 0.6714 - val_accuracy: 0.7895\n",
      "Epoch 46/80\n",
      "7/7 [==============================] - 0s 47ms/step - loss: 0.1654 - accuracy: 1.0000 - val_loss: 0.6702 - val_accuracy: 0.7895\n",
      "Epoch 47/80\n",
      "7/7 [==============================] - 0s 47ms/step - loss: 0.1612 - accuracy: 1.0000 - val_loss: 0.6742 - val_accuracy: 0.7368\n",
      "Epoch 48/80\n",
      "7/7 [==============================] - 0s 45ms/step - loss: 0.1580 - accuracy: 1.0000 - val_loss: 0.6792 - val_accuracy: 0.7895\n",
      "Epoch 49/80\n",
      "7/7 [==============================] - 0s 46ms/step - loss: 0.1532 - accuracy: 1.0000 - val_loss: 0.6799 - val_accuracy: 0.7895\n",
      "Epoch 50/80\n",
      "7/7 [==============================] - 0s 46ms/step - loss: 0.1524 - accuracy: 1.0000 - val_loss: 0.6755 - val_accuracy: 0.7895\n",
      "Epoch 51/80\n",
      "7/7 [==============================] - 0s 46ms/step - loss: 0.1460 - accuracy: 1.0000 - val_loss: 0.6749 - val_accuracy: 0.7368\n",
      "Epoch 52/80\n",
      "7/7 [==============================] - 0s 45ms/step - loss: 0.1428 - accuracy: 1.0000 - val_loss: 0.6808 - val_accuracy: 0.7895\n",
      "Epoch 53/80\n",
      "7/7 [==============================] - 0s 45ms/step - loss: 0.1395 - accuracy: 1.0000 - val_loss: 0.6798 - val_accuracy: 0.7368\n",
      "Epoch 54/80\n",
      "7/7 [==============================] - 0s 47ms/step - loss: 0.1367 - accuracy: 1.0000 - val_loss: 0.6785 - val_accuracy: 0.7368\n",
      "Epoch 55/80\n",
      "7/7 [==============================] - 0s 46ms/step - loss: 0.1339 - accuracy: 1.0000 - val_loss: 0.6792 - val_accuracy: 0.7368\n",
      "Epoch 56/80\n",
      "7/7 [==============================] - 0s 46ms/step - loss: 0.1299 - accuracy: 1.0000 - val_loss: 0.6862 - val_accuracy: 0.7895\n",
      "Epoch 57/80\n",
      "7/7 [==============================] - 0s 46ms/step - loss: 0.1271 - accuracy: 1.0000 - val_loss: 0.6826 - val_accuracy: 0.7368\n",
      "Epoch 58/80\n",
      "7/7 [==============================] - 0s 45ms/step - loss: 0.1243 - accuracy: 1.0000 - val_loss: 0.6839 - val_accuracy: 0.7895\n",
      "Epoch 59/80\n",
      "7/7 [==============================] - 0s 46ms/step - loss: 0.1219 - accuracy: 1.0000 - val_loss: 0.6865 - val_accuracy: 0.7368\n",
      "Epoch 60/80\n",
      "7/7 [==============================] - 0s 47ms/step - loss: 0.1192 - accuracy: 1.0000 - val_loss: 0.6877 - val_accuracy: 0.7368\n",
      "Epoch 61/80\n",
      "7/7 [==============================] - 0s 46ms/step - loss: 0.1166 - accuracy: 1.0000 - val_loss: 0.6872 - val_accuracy: 0.7368\n",
      "Epoch 62/80\n",
      "7/7 [==============================] - 0s 47ms/step - loss: 0.1141 - accuracy: 1.0000 - val_loss: 0.6864 - val_accuracy: 0.7895\n",
      "Epoch 63/80\n",
      "7/7 [==============================] - 0s 46ms/step - loss: 0.1116 - accuracy: 1.0000 - val_loss: 0.6871 - val_accuracy: 0.7895\n",
      "Epoch 64/80\n",
      "7/7 [==============================] - 0s 46ms/step - loss: 0.1089 - accuracy: 1.0000 - val_loss: 0.6907 - val_accuracy: 0.7368\n",
      "Epoch 65/80\n",
      "7/7 [==============================] - 0s 46ms/step - loss: 0.1072 - accuracy: 1.0000 - val_loss: 0.6993 - val_accuracy: 0.7895\n",
      "Epoch 66/80\n",
      "7/7 [==============================] - 0s 48ms/step - loss: 0.1055 - accuracy: 1.0000 - val_loss: 0.6939 - val_accuracy: 0.7895\n",
      "Epoch 67/80\n",
      "7/7 [==============================] - 0s 46ms/step - loss: 0.1036 - accuracy: 1.0000 - val_loss: 0.6944 - val_accuracy: 0.7368\n",
      "Epoch 68/80\n",
      "7/7 [==============================] - 0s 48ms/step - loss: 0.1003 - accuracy: 1.0000 - val_loss: 0.6993 - val_accuracy: 0.7368\n",
      "Epoch 69/80\n",
      "7/7 [==============================] - 0s 46ms/step - loss: 0.0986 - accuracy: 1.0000 - val_loss: 0.6984 - val_accuracy: 0.7368\n",
      "Epoch 70/80\n",
      "7/7 [==============================] - 0s 45ms/step - loss: 0.0969 - accuracy: 1.0000 - val_loss: 0.6994 - val_accuracy: 0.7368\n",
      "Epoch 71/80\n",
      "7/7 [==============================] - 0s 45ms/step - loss: 0.0957 - accuracy: 1.0000 - val_loss: 0.7016 - val_accuracy: 0.7368\n",
      "Epoch 72/80\n",
      "7/7 [==============================] - 0s 47ms/step - loss: 0.0933 - accuracy: 1.0000 - val_loss: 0.7072 - val_accuracy: 0.7895\n",
      "Epoch 73/80\n",
      "7/7 [==============================] - 0s 46ms/step - loss: 0.0915 - accuracy: 1.0000 - val_loss: 0.7075 - val_accuracy: 0.7895\n",
      "Epoch 74/80\n",
      "7/7 [==============================] - 0s 46ms/step - loss: 0.0897 - accuracy: 1.0000 - val_loss: 0.7034 - val_accuracy: 0.7368\n",
      "Epoch 75/80\n",
      "7/7 [==============================] - 0s 46ms/step - loss: 0.0891 - accuracy: 1.0000 - val_loss: 0.7078 - val_accuracy: 0.7368\n",
      "Epoch 76/80\n",
      "7/7 [==============================] - 0s 47ms/step - loss: 0.0866 - accuracy: 1.0000 - val_loss: 0.7119 - val_accuracy: 0.7895\n",
      "Epoch 77/80\n",
      "7/7 [==============================] - 0s 48ms/step - loss: 0.0857 - accuracy: 1.0000 - val_loss: 0.7099 - val_accuracy: 0.7368\n",
      "Epoch 78/80\n",
      "7/7 [==============================] - 0s 46ms/step - loss: 0.0844 - accuracy: 1.0000 - val_loss: 0.7102 - val_accuracy: 0.7368\n",
      "Epoch 79/80\n",
      "7/7 [==============================] - 0s 45ms/step - loss: 0.0819 - accuracy: 1.0000 - val_loss: 0.7186 - val_accuracy: 0.7895\n",
      "Epoch 80/80\n",
      "7/7 [==============================] - 0s 48ms/step - loss: 0.0805 - accuracy: 1.0000 - val_loss: 0.7156 - val_accuracy: 0.7895\n"
     ]
    }
   ],
   "source": [
    "epoch=80\n",
    "bz=16\n",
    "\n",
    "history = model.fit(x=[input_all, age_all], y=ground_truth_all, epochs=epoch, batch_size=bz, \n",
    "                   validation_split=0.15)\n",
    "\n",
    "# history = model.fit(x=[input_training, age_training], y=ground_truth_training, epochs=epoch, batch_size=bz, \n",
    "#                    validation_data=[[input_val, age_val], ground_truth_val])\n",
    "\n",
    "# history = model.fit(x=[input_training, age_training], y=ground_truth_training, epochs=epoch, batch_size=bz, \n",
    "#                     validation_data=[[input_val, age_val], ground_truth_val], \n",
    "#                     callbacks=checkpoint)"
   ]
  },
  {
   "cell_type": "code",
   "execution_count": 72,
   "metadata": {},
   "outputs": [],
   "source": [
    "######################################## change the save path here ########################################\n",
    "savepath = path_project + 'Thesis/Experiments_Record/my_code/all_modalities/shuffle/6/'\n",
    "######################################## change the save path here ########################################\n",
    "\n",
    "with open(savepath + 'log_history.txt', 'wb') as file_txt:\n",
    "    pickle.dump(history.history, file_txt)\n",
    "    \n",
    "model.save(savepath + 'LW_CNN.h5')"
   ]
  },
  {
   "cell_type": "code",
   "execution_count": 73,
   "metadata": {
    "colab": {
     "base_uri": "https://localhost:8080/",
     "height": 1000
    },
    "executionInfo": {
     "elapsed": 2017,
     "status": "ok",
     "timestamp": 1649410633861,
     "user": {
      "displayName": "Qiyuan Lyu",
      "userId": "17924735661076172645"
     },
     "user_tz": -60
    },
    "id": "XurR1l0iQphj",
    "outputId": "7cc0a654-5566-413e-b219-e2aa85386c7f"
   },
   "outputs": [
    {
     "data": {
      "image/png": "[encoded data removed]",
      "text/plain": [
       "<Figure size 432x288 with 1 Axes>"
      ]
     },
     "metadata": {
      "needs_background": "light"
     },
     "output_type": "display_data"
    },
    {
     "data": {
      "image/png": "[encoded data removed]",
      "text/plain": [
       "<Figure size 432x288 with 1 Axes>"
      ]
     },
     "metadata": {
      "needs_background": "light"
     },
     "output_type": "display_data"
    }
   ],
   "source": [
    "plt.rcParams[\"axes.grid\"] = False\n",
    "plt.plot(history.history['loss'], color='blue', label='training loss')\n",
    "plt.plot(history.history[accu_metric], color='red', label='training accuracy')\n",
    "plt.ylim(0, max(max(history.history['loss'])+0.4, max(history.history[accu_metric])+0.4))\n",
    "plt.legend()\n",
    "plt.title('Training Curve')\n",
    "plt.ylabel('Loss')\n",
    "plt.xlabel('epochs')\n",
    "s = savepath + 'epochwise_training.pdf'\n",
    "plt.savefig(s)\n",
    "plt.show()\n",
    "plt.close()\n",
    "\n",
    "plt.rcParams[\"axes.grid\"] = False\n",
    "plt.plot(history.history['val_loss'], color='blue', label='validation loss')\n",
    "plt.plot(history.history['val_' + accu_metric], color='red', label='validation accuracy')\n",
    "plt.ylim(0,max(max(history.history['val_loss'])+0.4, max(history.history['val_' + accu_metric])+0.4))\n",
    "plt.legend(bbox_to_anchor=(1,1))\n",
    "plt.title('Validation Curve')\n",
    "plt.ylabel('Accuracy')\n",
    "plt.xlabel('epochs')\n",
    "s = savepath + 'epochwise_validation.pdf'\n",
    "plt.savefig(s)\n",
    "plt.show()\n",
    "plt.close()"
   ]
  },
  {
   "cell_type": "code",
   "execution_count": 74,
   "metadata": {},
   "outputs": [
    {
     "data": {
      "image/png": "[encoded data removed]",
      "text/plain": [
       "<Figure size 432x288 with 1 Axes>"
      ]
     },
     "metadata": {
      "needs_background": "light"
     },
     "output_type": "display_data"
    },
    {
     "data": {
      "image/png": "[encoded data removed]",
      "text/plain": [
       "<Figure size 432x288 with 1 Axes>"
      ]
     },
     "metadata": {
      "needs_background": "light"
     },
     "output_type": "display_data"
    }
   ],
   "source": [
    "plt.rcParams[\"axes.grid\"] = False\n",
    "plt.plot(history.history['loss'], color='blue', label='training loss')\n",
    "plt.plot(history.history['val_loss'], color='red', label='validation loss')\n",
    "plt.ylim(0, max(max(history.history['loss'])+0.2, max(history.history['val_loss'])+0.2))\n",
    "plt.legend()\n",
    "plt.title('Loss vs epochs')\n",
    "plt.ylabel('Loss')\n",
    "plt.xlabel('epochs')\n",
    "s = savepath + 'epochwise_loss.pdf'\n",
    "plt.savefig(s)\n",
    "plt.show()\n",
    "plt.close()\n",
    "\n",
    "plt.rcParams[\"axes.grid\"] = False\n",
    "plt.plot(history.history[accu_metric], color='blue', label='training accuracy')\n",
    "plt.plot(history.history['val_' + accu_metric], color='red', label='validation accuracy')\n",
    "plt.ylim(0,max(max(history.history[accu_metric])+0.4, max(history.history['val_' + accu_metric])+0.4))\n",
    "plt.legend(bbox_to_anchor=(1,1))\n",
    "plt.title('Accuracy vs epochs')\n",
    "plt.ylabel('Accuracy')\n",
    "plt.xlabel('epochs')\n",
    "s = savepath + 'epochwise_accuracy.pdf'\n",
    "plt.savefig(s)\n",
    "plt.show()\n",
    "plt.close()"
   ]
  },
  {
   "cell_type": "code",
   "execution_count": null,
   "metadata": {
    "id": "yTZJUZlyy9QG"
   },
   "outputs": [],
   "source": [
    "# confusion matrix on validation set\n",
    "y_pred = model.predict(x=[input_all, age_all])\n",
    "y_true = ground_truth_all\n",
    "labels = ['Short', 'Long']\n",
    "\n",
    "sns.set()\n",
    "f,ax=plt.subplots()\n",
    "C2= confusion_matrix(y_true.argmax(axis=1), y_pred.argmax(axis=1))\n",
    "\n",
    "print(C2)\n",
    "sns.heatmap(C2,annot=True,ax=ax)\n",
    "xlocations = np.array(range(len(labels)))+0.5\n",
    "plt.xticks(xlocations, labels)\n",
    "plt.yticks(xlocations, labels)\n",
    "ax.set_title('confusion matrix')\n",
    "ax.set_xlabel('Predict')\n",
    "ax.set_ylabel('True')\n",
    "\n",
    "print('accuracy on validation set: ', (C2[0][0]+C2[1][1])/(C2[0][0]+C2[1][1]+C2[0][1]+C2[1][0]))\n",
    "\n",
    "plt.savefig(savepath + 'confusion_matrix_all.pdf')\n",
    "\n",
    "# pd.crosstab(y_true.argmax(axis=1), y_pred.argmax(axis=1), rownames=['label'], colnames=['predict'])"
   ]
  },
  {
   "cell_type": "code",
   "execution_count": null,
   "metadata": {
    "colab": {
     "base_uri": "https://localhost:8080/"
    },
    "executionInfo": {
     "elapsed": 2709,
     "status": "ok",
     "timestamp": 1649342936105,
     "user": {
      "displayName": "Qiyuan Lyu",
      "userId": "17924735661076172645"
     },
     "user_tz": -60
    },
    "id": "U0JdNRxzhCE2",
    "outputId": "63486b2f-23e8-43eb-bcd4-3f94a6042dbf"
   },
   "outputs": [],
   "source": [
    "from sklearn.metrics import confusion_matrix, f1_score, precision_score, recall_score,accuracy_score\n",
    "\n",
    "# # prediction on training set\n",
    "# y_predict = model.predict([input_training, age], verbose=1)\n",
    "# # y_predict = (y_predict > 0.007).astype(int)\n",
    "# y_predict = (y_predict > 0.01).astype(int)\n",
    "# y_true = np.reshape(ground_truth, [-1])\n",
    "# y_pred = np.reshape(y_predict, [-1])\n",
    "y_pred = model.predict([input_training, age_training], verbose=1)\n",
    "y_pred = y_pred.argmax(axis=1)\n",
    "y_true = ground_truth_training\n",
    "y_true = y_true.argmax(axis=1)\n",
    "\n",
    "# evalution index\n",
    "accuracy = accuracy_score(y_true, y_pred)\n",
    "precision = precision_score(y_true, y_pred)\n",
    "recall = recall_score(y_true, y_pred, average='binary')\n",
    "f1score = f1_score(y_true, y_pred, average='binary')\n",
    "# Micro F1: 将n分类的评价拆成n个二分类的评价，将n个二分类评价的TP、FP、RN对应相加，计算评价准确率和召回率，由这2个准确率和召回率计算的F1 score即为Micro F1。\n",
    "# Macro F1: 将n分类的评价拆成n个二分类的评价，计算每个二分类的F1 score，n个F1 score的平均值即为Macro F1。\n",
    "# 一般来讲，Macro F1、Micro F1高的分类效果好。Macro F1受样本数量少的类别影响大。\n",
    "micro_f1 = f1_score(y_true, y_pred,average='micro')\n",
    "macro_f1 = f1_score(y_true, y_pred,average='macro')\n",
    "\n",
    "print('accuracy:',accuracy)\n",
    "print('precision:',precision)\n",
    "print('recall:',recall)\n",
    "print('f1score:',f1score)\n",
    "print('Macro-F1: {}'.format(macro_f1))\n",
    "print('Micro-F1: {}'.format(micro_f1))\n",
    "\n",
    "# prediction on validation set\n",
    "print('\\n\\n')\n",
    "# y_predict_val = model.predict([input_to_val, age_val], verbose=1)\n",
    "# y_predict_val = (y_predict_val > 0.01).astype(int)\n",
    "# y_true_val = np.reshape(ground_truth_val, [-1])\n",
    "# y_pred_val = np.reshape(y_predict_val, [-1])\n",
    "y_pred_val = model.predict([input_val, age_val], verbose=1)\n",
    "y_pred_val = y_pred_val.argmax(axis=1)\n",
    "y_true_val = ground_truth_val\n",
    "y_true_val = y_true_val.argmax(axis=1)\n",
    "\n",
    "# evalution index\n",
    "accuracy_val = accuracy_score(y_true_val, y_pred_val)\n",
    "precision_val = precision_score(y_true_val, y_pred_val)\n",
    "recall_val = recall_score(y_true_val, y_pred_val, average='binary')\n",
    "f1score_val = f1_score(y_true_val, y_pred_val, average='binary')\n",
    "micro_f1_val = f1_score(y_true_val, y_pred_val,average='micro')\n",
    "macro_f1_val = f1_score(y_true_val, y_pred_val,average='macro')\n",
    "\n",
    "print('accuracy_val:',accuracy_val)\n",
    "print('precision_val:',precision_val)\n",
    "print('recall_val:',recall_val)\n",
    "print('f1score_val:',f1score_val)\n",
    "print('Macro-F1_val: {}'.format(macro_f1_val))\n",
    "print('Micro-F1_val: {}'.format(micro_f1_val))"
   ]
  },
  {
   "cell_type": "code",
   "execution_count": 75,
   "metadata": {},
   "outputs": [],
   "source": [
    "############################### save the hyperparameters and metrics ###############################\n",
    "\n",
    "with open(savepath + 'log.txt','w',encoding='utf-8') as f:\n",
    "    f.write('######################################\\n')\n",
    "    f.write('optimizer: ' + 'sgd' + '\\n')\n",
    "    f.write('learning rate: ' + str(lr) + '\\n')\n",
    "    f.write('decay rate: ' + str(decay_rate) + '\\n')\n",
    "    f.write('epochs: ' + str(epoch) + '\\n')\n",
    "    f.write('batch size: ' + str(bz) + '\\n')\n",
    "    \n",
    "    f.write('\\n\\n######################################\\n')\n",
    "    f.write('accuracy: ' + str(history.history['val_accuracy']))\n",
    "    \n",
    "    f.write('\\n\\n######################################\\n')\n",
    "    model.summary(print_fn=lambda x: f.write(x + '\\n'))"
   ]
  }
 ],
 "metadata": {
  "colab": {
   "collapsed_sections": [],
   "name": "test_2way.ipynb",
   "provenance": [],
   "toc_visible": true
  },
  "kernelspec": {
   "display_name": "Python 3 (ipykernel)",
   "language": "python",
   "name": "python3"
  },
  "language_info": {
   "codemirror_mode": {
    "name": "ipython",
    "version": 3
   },
   "file_extension": ".py",
   "mimetype": "text/x-python",
   "name": "python",
   "nbconvert_exporter": "python",
   "pygments_lexer": "ipython3",
   "version": "3.9.7"
  }
 },
 "nbformat": 4,
 "nbformat_minor": 4
}
