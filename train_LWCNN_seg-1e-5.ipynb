{
 "cells": [
  {
   "cell_type": "markdown",
   "metadata": {
    "id": "view-in-github"
   },
   "source": [
    "<a href=\"https://colab.research.google.com/github/shalabh147/Brain-Tumor-Segmentation-and-Survival-Prediction-using-Deep-Neural-Networks/blob/master/surv_pred_classification.ipynb\" target=\"_parent\"><img src=\"https://colab.research.google.com/assets/colab-badge.svg\" alt=\"Open In Colab\"/></a>"
   ]
  },
  {
   "cell_type": "code",
   "execution_count": 1,
   "metadata": {
    "_cell_guid": "b1076dfc-b9ad-4769-8c92-a6c4dae69d19",
    "_uuid": "8f2839f25d086af736a60e9eeb907d3b93b6e0e5",
    "executionInfo": {
     "elapsed": 5122,
     "status": "ok",
     "timestamp": 1649405131451,
     "user": {
      "displayName": "Qiyuan Lyu",
      "userId": "17924735661076172645"
     },
     "user_tz": -60
    },
    "id": "kFz1BO2pv_dC"
   },
   "outputs": [],
   "source": [
    "import random\n",
    "import pandas as pd\n",
    "import numpy as np\n",
    "import matplotlib.pyplot as plt\n",
    "import tensorflow as tf\n",
    "import keras.backend as K\n",
    "from keras import layers\n",
    "from keras import callbacks\n",
    "from keras import optimizers\n",
    "from keras.models import Model, load_model\n",
    "# from keras.layers import Input, BatchNormalization, Activation, Dense, Dropout, Maximum, Flatten\n",
    "from tensorflow.keras.layers import Input, BatchNormalization, Activation, Dense, Dropout, Maximum, Flatten\n",
    "from keras.layers.core import Lambda, RepeatVector, Reshape\n",
    "from keras.layers.convolutional import Conv2D, Conv2DTranspose, Conv3D, Conv3DTranspose, UpSampling2D\n",
    "# from tensorflow.keras.layers.convolutional import Conv2D, Conv2DTranspose,Conv3D,Conv3DTranspose,UpSampling2D\n",
    "from keras.layers.pooling import MaxPooling2D, GlobalMaxPool2D, MaxPooling3D, AveragePooling2D\n",
    "from keras.layers.merge import concatenate, add\n",
    "from keras.callbacks import EarlyStopping, ModelCheckpoint, ReduceLROnPlateau\n",
    "from keras.optimizers import adam_v2\n",
    "from keras.preprocessing.image import ImageDataGenerator, array_to_img, img_to_array, load_img\n",
    "import seaborn as sns\n",
    "from sklearn.metrics import confusion_matrix\n",
    "\n",
    "from skimage.io import imread, imshow, concatenate_images\n",
    "from skimage.transform import resize\n",
    "from sklearn.utils import class_weight\n",
    "from keras.models import Sequential\n",
    "import nibabel as nib\n",
    "import csv\n",
    "import os"
   ]
  },
  {
   "cell_type": "code",
   "execution_count": 2,
   "metadata": {
    "executionInfo": {
     "elapsed": 361,
     "status": "ok",
     "timestamp": 1649405159990,
     "user": {
      "displayName": "Qiyuan Lyu",
      "userId": "17924735661076172645"
     },
     "user_tz": -60
    },
    "id": "22nSR24qgNRB"
   },
   "outputs": [],
   "source": [
    "path_project = '/home/origin/Research/'\n",
    "path_clinical = path_project + 'Data/clinical/Pre-operative_TCGA-GBM/survival_info_all.csv'\n",
    "path_MRI_training = path_project + 'Data/MRI/Pre-operative/Training/'\n",
    "path_MRI_validation = path_project + 'Data/MRI/Pre-operative/Validation/'\n",
    "\n",
    "IDs_patients = os.listdir(path_MRI_training) + os.listdir(path_MRI_validation)\n",
    "IDs_patients.sort()\n",
    "count_patients = len(IDs_patients)\n",
    "age_dict = {}\n",
    "OS_dict = {}\n",
    "threshold = 360 # days\n",
    "seg_label = 'GlistrBoost.nii'\n",
    "\n",
    "\n",
    "def standardize(image):\n",
    "  standardized_image = np.zeros(image.shape)\n",
    "  # iterate over the `z` dimension\n",
    "  for z in range(image.shape[2]):\n",
    "    # get a slice of the image at channel c and z-th dimension `z`\n",
    "    image_slice = image[:, :, z]\n",
    "    # subtract the mean from image_slice\n",
    "    centered = image_slice - np.mean(image_slice)\n",
    "    # divide by the standard deviation (only if it is different from zero)\n",
    "    if np.std(centered) != 0:\n",
    "        centered = centered / np.std(centered)\n",
    "    # update  the slice of standardized image with the scaled centered and scaled image\n",
    "    standardized_image[:, :, z] = centered\n",
    "    \n",
    "  return standardized_image"
   ]
  },
  {
   "cell_type": "code",
   "execution_count": 3,
   "metadata": {},
   "outputs": [],
   "source": [
    "dtypes = dict.fromkeys(pd.read_csv(path_clinical, encoding='gbk', nrows=1).columns.tolist(), str)\n",
    "data_clinical = pd.read_csv(path_clinical, encoding='gbk', dtype=dtypes)\n",
    "\n",
    "# produce the dict of age and overall survival\n",
    "head_IDs, head_age, head_OS = list(dtypes.keys())[0], list(dtypes.keys())[1], list(dtypes.keys())[2]\n",
    "cases_IDs = list(data_clinical[head_IDs])\n",
    "cases_age = list(data_clinical[head_age].apply(pd.to_numeric, errors='coerce').fillna(0))\n",
    "cases_OS = list(data_clinical[head_OS].apply(pd.to_numeric, errors='coerce').fillna(0))\n",
    "age_dict = dict(zip(cases_IDs, cases_age))\n",
    "OS_dict = dict(zip(cases_IDs, cases_OS))"
   ]
  },
  {
   "cell_type": "code",
   "execution_count": 4,
   "metadata": {
    "executionInfo": {
     "elapsed": 802343,
     "status": "ok",
     "timestamp": 1649405987375,
     "user": {
      "displayName": "Qiyuan Lyu",
      "userId": "17924735661076172645"
     },
     "user_tz": -60
    },
    "id": "mxl7Ivq9v_dV"
   },
   "outputs": [
    {
     "name": "stdout",
     "output_type": "stream",
     "text": [
      "training set:  104\n"
     ]
    }
   ],
   "source": [
    "# training set loading\n",
    "training_set_all = os.listdir(path_MRI_training)\n",
    "training_set = []\n",
    "slice_loc_training = []\n",
    "\n",
    "for IDs in training_set_all:\n",
    "    if IDs in OS_dict.keys():\n",
    "        training_set.append(IDs)\n",
    "        \n",
    "count_patients_training = len(training_set)\n",
    "input_training = np.zeros((count_patients_training, 240, 240))\n",
    "age_training = np.zeros((count_patients_training, 1))\n",
    "ground_truth_training = np.zeros((count_patients_training, 2))\n",
    "cnt = 0\n",
    "for image_num in range(count_patients_training):\n",
    "    x = training_set[image_num]\n",
    "    folder_path = path_MRI_training + x\n",
    "    modalities = os.listdir(folder_path)\n",
    "    modalities.sort()\n",
    "\n",
    "    image_data2 = np.zeros((240, 240, 155))\n",
    "    w = 0\n",
    "    for j in range(len(modalities)):\n",
    "        image_path = folder_path + '/' + modalities[j]\n",
    "        if not (image_path.find('GlistrBoost.nii') == -1):\n",
    "            img = nib.load(image_path)\n",
    "            image_data2 = img.get_fdata()\n",
    "            image_data2 = np.asarray(image_data2)\n",
    "            image_data2 = standardize(image_data2)\n",
    "            \n",
    "    image_data2[image_data2 == 4] = 3\n",
    "    slice_nonzero = []\n",
    "    width, height, queue = image_data2.shape\n",
    "    for i in range(0, queue, 10):\n",
    "        image_array = image_data2[:, :, i]\n",
    "        slice_nonzero.append(np.count_nonzero(image_array))\n",
    "    slice_nonzero_array = np.array(slice_nonzero)\n",
    "    slice_loc_training.append(slice_nonzero_array.argmax() * 10)\n",
    "\n",
    "    input_training[cnt, :, :] = image_data2[:, :, slice_loc_training[image_num]]\n",
    "    age_training[cnt, 0] = float(age_dict[x])\n",
    "    OS_training = int(OS_dict[x])\n",
    "\n",
    "    if int(OS_training) < threshold:\n",
    "        ground_truth_training[cnt, 0] = 1\n",
    "    else:\n",
    "        ground_truth_training[cnt, 1] = 1\n",
    "    cnt += 1\n",
    "    \n",
    "print('training set: ', len(input_training))"
   ]
  },
  {
   "cell_type": "code",
   "execution_count": 5,
   "metadata": {
    "executionInfo": {
     "elapsed": 133712,
     "status": "ok",
     "timestamp": 1649406129864,
     "user": {
      "displayName": "Qiyuan Lyu",
      "userId": "17924735661076172645"
     },
     "user_tz": -60
    },
    "id": "P-U8an8y_WWY"
   },
   "outputs": [
    {
     "name": "stdout",
     "output_type": "stream",
     "text": [
      "validation set:  17\n"
     ]
    }
   ],
   "source": [
    "# validation set loading\n",
    "validation_set = os.listdir(path_MRI_validation)\n",
    "count_patients_val = len(validation_set)\n",
    "slice_loc_val = []\n",
    "\n",
    "input_val = np.zeros((count_patients_val, 240, 240))\n",
    "age_val = np.zeros((count_patients_val, 1))\n",
    "ground_truth_val = np.zeros((count_patients_val, 2))\n",
    "cnt = 0\n",
    "for image_num in range(count_patients_val):\n",
    "    x = validation_set[image_num]\n",
    "    folder_path = path_MRI_validation + x\n",
    "    modalities = os.listdir(folder_path)\n",
    "    modalities.sort()\n",
    "\n",
    "    image_data2 = np.zeros((240, 240, 155))\n",
    "    w = 0\n",
    "    for j in range(len(modalities)):\n",
    "        image_path = folder_path + '/' + modalities[j]\n",
    "        if not (image_path.find('GlistrBoost.nii') == -1):\n",
    "            img = nib.load(image_path)\n",
    "            image_data2 = img.get_fdata()\n",
    "            image_data2 = np.asarray(image_data2)\n",
    "            image_data2 = standardize(image_data2)\n",
    "\n",
    "    image_data2[image_data2 == 4] = 3\n",
    "    slice_nonzero = []\n",
    "    width, height, queue = image_data2.shape\n",
    "    for i in range(0, queue, 10):\n",
    "        image_array = image_data2[:, :, i] \n",
    "        slice_nonzero.append(np.count_nonzero(image_array))\n",
    "    slice_nonzero_array = np.array(slice_nonzero)\n",
    "    slice_loc_val.append(slice_nonzero_array.argmax() * 10)\n",
    "    \n",
    "    input_val[cnt, :, :] = image_data2[:, :, slice_loc_val[image_num]]\n",
    "    age_val[cnt, 0] = float(age_dict[x])\n",
    "    OS_val = int(OS_dict[x])\n",
    "\n",
    "    if int(OS_val) < threshold:\n",
    "        ground_truth_val[cnt, 0] = 1\n",
    "    else:\n",
    "        ground_truth_val[cnt, 1] = 1\n",
    "    cnt += 1\n",
    "    \n",
    "print('validation set: ', len(input_val))"
   ]
  },
  {
   "cell_type": "code",
   "execution_count": 6,
   "metadata": {
    "colab": {
     "base_uri": "https://localhost:8080/"
    },
    "executionInfo": {
     "elapsed": 329,
     "status": "ok",
     "timestamp": 1649405183523,
     "user": {
      "displayName": "Qiyuan Lyu",
      "userId": "17924735661076172645"
     },
     "user_tz": -60
    },
    "id": "JeiP17dWv_dT",
    "outputId": "e116536e-6ae2-46b9-c559-b736266af252"
   },
   "outputs": [
    {
     "name": "stdout",
     "output_type": "stream",
     "text": [
      "the number of patients who have age and OS information:  121\n",
      "the slices of 3D scans in training set are:  [50, 50, 60, 40, 70, 50, 60, 30, 40, 70, 50, 30, 40, 40, 70, 50, 60, 30, 60, 30, 60, 70, 70, 30, 40, 90, 40, 40, 80, 30, 60, 40, 90, 60, 50, 60, 30, 40, 40, 60, 40, 30, 30, 30, 70, 30, 90, 40, 30, 30, 50, 40, 40, 30, 30, 30, 30, 30, 30, 30, 50, 40, 40, 50, 60, 50, 50, 40, 60, 60, 40, 20, 30, 80, 40, 40, 80, 30, 30, 30, 50, 60, 60, 40, 60, 40, 60, 60, 40, 60, 30, 70, 80, 40, 70, 40, 50, 60, 60, 40, 50, 40, 70, 70]\n",
      "the slices of 3D scans in validation set are:  [40, 40, 40, 40, 40, 30, 90, 50, 70, 70, 80, 40, 50, 50, 40, 40, 60]\n"
     ]
    }
   ],
   "source": [
    "cnt = 0\n",
    "for patients_num in range(count_patients):\n",
    "  image1 = IDs_patients[patients_num]\n",
    "  if image1 in OS_dict:\n",
    "    cnt += 1\n",
    "print('the number of patients who have age and OS information: ', cnt)\n",
    "\n",
    "print('the slices of 3D scans in training set are: ', slice_loc_training)\n",
    "print('the slices of 3D scans in validation set are: ', slice_loc_val)"
   ]
  },
  {
   "cell_type": "code",
   "execution_count": 7,
   "metadata": {
    "executionInfo": {
     "elapsed": 340,
     "status": "ok",
     "timestamp": 1649409334720,
     "user": {
      "displayName": "Qiyuan Lyu",
      "userId": "17924735661076172645"
     },
     "user_tz": -60
    },
    "id": "vqnbcxP_v_dK"
   },
   "outputs": [],
   "source": [
    "def SurvPredNet(input_img,age_m):\n",
    "    \n",
    "    model = Sequential()\n",
    "    \n",
    "#     a1 = Conv2D(16,kernel_size = (3,3) , padding='same')(input_img)\n",
    "#     a1 = Activation('relu')(a1)\n",
    "#     a1 = Conv2D(16,kernel_size = (3,3) , padding='same')(a1)\n",
    "#     a1 = Activation('relu')(a1)\n",
    "#     a1 = MaxPooling2D(pool_size = (2,2) , strides = (2,2))(a1)\n",
    "    \n",
    "#     a1 = Conv2D(24,kernel_size = (3,3) , padding='same')(a1)\n",
    "#     a1 = Activation('relu')(a1)\n",
    "#     a1 = Conv2D(24,kernel_size = (3,3) , padding='same')(a1)\n",
    "#     a1 = Activation('relu')(a1)\n",
    "#     a1 = MaxPooling2D(pool_size = (2,2) , strides = (2,2))(a1)\n",
    "    \n",
    "#     a1 = Conv2D(32,kernel_size = (3,3) , padding='same')(a1)\n",
    "#     a1 = Activation('relu')(a1)\n",
    "#     a1 = Conv2D(32,kernel_size = (3,3) , padding='same')(a1)\n",
    "#     a1 = Activation('relu')(a1)\n",
    "#     a1 = Conv2D(32,kernel_size = (3,3) , padding='same')(a1)\n",
    "#     a1 = Activation('relu')(a1)\n",
    "#     a1 = MaxPooling2D(pool_size = (2,2) , strides = (2,2))(a1)\n",
    "    \n",
    "#     a1 = Conv2D(64,kernel_size = (3,3) , padding='same')(a1)\n",
    "#     a1 = Activation('relu')(a1)\n",
    "#     a1 = Conv2D(64,kernel_size = (3,3) , padding='same')(a1)\n",
    "#     a1 = Activation('relu')(a1)\n",
    "#     a1 = Conv2D(64,kernel_size = (3,3) , padding='same')(a1)\n",
    "#     a1 = Activation('relu')(a1)\n",
    "#     a1 = MaxPooling2D(pool_size = (2,2) , strides = (2,2))(a1)\n",
    "    \n",
    "    a1 = Conv2D(32,kernel_size = (3,3) , padding='same')(input_img)\n",
    "    a1 = Activation('relu')(a1)\n",
    "    a1 = Conv2D(32,kernel_size = (3,3) , padding='same')(a1)\n",
    "    a1 = Activation('relu')(a1)\n",
    "    a1 = Conv2D(32,kernel_size = (3,3) , padding='same')(a1)\n",
    "    a1 = Activation('relu')(a1)\n",
    "    a1 = MaxPooling2D(pool_size = (2,2) , strides = (2,2))(a1)\n",
    "    \n",
    "    a1 = Flatten()(a1)\n",
    "    a1 = concatenate([a1,age_m])\n",
    "    \n",
    "    a1 = Dense(32,activation = 'relu')(a1)\n",
    "    a1 = Dense(16,activation = 'relu')(a1)\n",
    "    outputs = Dense(2,activation = 'softmax')(a1)\n",
    "    \n",
    "    model = Model(inputs = [input_img,age_m] , outputs = outputs)\n",
    "    return model\n",
    "\n",
    "# saveModel = path_project + 'Thesis/Experiments_Record/Figures/20220526/Round1/Model/'\n",
    "# checkpoint = callbacks.ModelCheckpoint(saveModel+'weights.{epoch:02d}.h5', monitor='val_accuracy', verbose=0,\n",
    "#                                 save_best_only=False,\n",
    "#                                 save_weights_only=False, mode='max',\n",
    "#                                 save_freq=10)"
   ]
  },
  {
   "cell_type": "code",
   "execution_count": 34,
   "metadata": {
    "colab": {
     "base_uri": "https://localhost:8080/"
    },
    "executionInfo": {
     "elapsed": 1036,
     "status": "ok",
     "timestamp": 1649410241192,
     "user": {
      "displayName": "Qiyuan Lyu",
      "userId": "17924735661076172645"
     },
     "user_tz": -60
    },
    "id": "r4gGUwZFv_dN",
    "outputId": "9a041f55-5ce6-45ce-9462-24ecf6699a2d"
   },
   "outputs": [
    {
     "name": "stdout",
     "output_type": "stream",
     "text": [
      "Model: \"model_6\"\n",
      "__________________________________________________________________________________________________\n",
      " Layer (type)                   Output Shape         Param #     Connected to                     \n",
      "==================================================================================================\n",
      " input_13 (InputLayer)          [(None, 240, 240, 1  0           []                               \n",
      "                                )]                                                                \n",
      "                                                                                                  \n",
      " conv2d_18 (Conv2D)             (None, 240, 240, 32  320         ['input_13[0][0]']               \n",
      "                                )                                                                 \n",
      "                                                                                                  \n",
      " activation_18 (Activation)     (None, 240, 240, 32  0           ['conv2d_18[0][0]']              \n",
      "                                )                                                                 \n",
      "                                                                                                  \n",
      " conv2d_19 (Conv2D)             (None, 240, 240, 32  9248        ['activation_18[0][0]']          \n",
      "                                )                                                                 \n",
      "                                                                                                  \n",
      " activation_19 (Activation)     (None, 240, 240, 32  0           ['conv2d_19[0][0]']              \n",
      "                                )                                                                 \n",
      "                                                                                                  \n",
      " conv2d_20 (Conv2D)             (None, 240, 240, 32  9248        ['activation_19[0][0]']          \n",
      "                                )                                                                 \n",
      "                                                                                                  \n",
      " activation_20 (Activation)     (None, 240, 240, 32  0           ['conv2d_20[0][0]']              \n",
      "                                )                                                                 \n",
      "                                                                                                  \n",
      " max_pooling2d_6 (MaxPooling2D)  (None, 120, 120, 32  0          ['activation_20[0][0]']          \n",
      "                                )                                                                 \n",
      "                                                                                                  \n",
      " flatten_6 (Flatten)            (None, 460800)       0           ['max_pooling2d_6[0][0]']        \n",
      "                                                                                                  \n",
      " input_14 (InputLayer)          [(None, 1)]          0           []                               \n",
      "                                                                                                  \n",
      " concatenate_6 (Concatenate)    (None, 460801)       0           ['flatten_6[0][0]',              \n",
      "                                                                  'input_14[0][0]']               \n",
      "                                                                                                  \n",
      " dense_18 (Dense)               (None, 32)           14745664    ['concatenate_6[0][0]']          \n",
      "                                                                                                  \n",
      " dense_19 (Dense)               (None, 16)           528         ['dense_18[0][0]']               \n",
      "                                                                                                  \n",
      " dense_20 (Dense)               (None, 2)            34          ['dense_19[0][0]']               \n",
      "                                                                                                  \n",
      "==================================================================================================\n",
      "Total params: 14,765,042\n",
      "Trainable params: 14,765,042\n",
      "Non-trainable params: 0\n",
      "__________________________________________________________________________________________________\n"
     ]
    }
   ],
   "source": [
    "lr = 1e-5\n",
    "decay_rate = 2e-7\n",
    "\n",
    "input_img = Input((240,240,1))\n",
    "age_m = Input(1)\n",
    "model = SurvPredNet(input_img,age_m)\n",
    "sgd = optimizers.gradient_descent_v2.SGD(learning_rate=lr, decay=decay_rate, momentum=0.9, nesterov=True)\n",
    "# accu_metric = 'categorical_accuracy'\n",
    "accu_metric = 'accuracy'\n",
    "model.compile(loss='categorical_crossentropy', optimizer=sgd, metrics=accu_metric)\n",
    "# model.compile(loss='categorical_crossentropy', optimizer='adam', metrics=accu_metric)\n",
    "# model.compile(loss='categorical_crossentropy',\n",
    "#              optimizer=tf.keras.optimizers.SGD(learning_rate =0.0001),\n",
    "#              metrics=[tf.keras.metrics.AUC()])\n",
    "model.summary()"
   ]
  },
  {
   "cell_type": "code",
   "execution_count": 35,
   "metadata": {
    "colab": {
     "base_uri": "https://localhost:8080/"
    },
    "executionInfo": {
     "elapsed": 377051,
     "status": "ok",
     "timestamp": 1649410620274,
     "user": {
      "displayName": "Qiyuan Lyu",
      "userId": "17924735661076172645"
     },
     "user_tz": -60
    },
    "id": "9YfWpxekY7b_",
    "outputId": "566d764a-b9d6-4998-ca36-e7246f356ecf"
   },
   "outputs": [
    {
     "name": "stdout",
     "output_type": "stream",
     "text": [
      "Epoch 1/80\n",
      "7/7 [==============================] - 1s 55ms/step - loss: 0.6962 - accuracy: 0.5288 - val_loss: 0.6603 - val_accuracy: 0.5294\n",
      "Epoch 2/80\n",
      "7/7 [==============================] - 0s 43ms/step - loss: 0.6890 - accuracy: 0.5481 - val_loss: 0.6589 - val_accuracy: 0.5294\n",
      "Epoch 3/80\n",
      "7/7 [==============================] - 0s 42ms/step - loss: 0.6785 - accuracy: 0.5769 - val_loss: 0.6602 - val_accuracy: 0.5294\n",
      "Epoch 4/80\n",
      "7/7 [==============================] - 0s 43ms/step - loss: 0.6692 - accuracy: 0.5865 - val_loss: 0.6607 - val_accuracy: 0.5294\n",
      "Epoch 5/80\n",
      "7/7 [==============================] - 0s 43ms/step - loss: 0.6592 - accuracy: 0.6442 - val_loss: 0.6593 - val_accuracy: 0.5294\n",
      "Epoch 6/80\n",
      "7/7 [==============================] - 0s 43ms/step - loss: 0.6500 - accuracy: 0.6538 - val_loss: 0.6587 - val_accuracy: 0.5294\n",
      "Epoch 7/80\n",
      "7/7 [==============================] - 0s 43ms/step - loss: 0.6415 - accuracy: 0.7212 - val_loss: 0.6566 - val_accuracy: 0.5294\n",
      "Epoch 8/80\n",
      "7/7 [==============================] - 0s 44ms/step - loss: 0.6320 - accuracy: 0.7404 - val_loss: 0.6576 - val_accuracy: 0.5294\n",
      "Epoch 9/80\n",
      "7/7 [==============================] - 0s 43ms/step - loss: 0.6245 - accuracy: 0.7212 - val_loss: 0.6597 - val_accuracy: 0.5294\n",
      "Epoch 10/80\n",
      "7/7 [==============================] - 0s 43ms/step - loss: 0.6154 - accuracy: 0.7308 - val_loss: 0.6581 - val_accuracy: 0.5294\n",
      "Epoch 11/80\n",
      "7/7 [==============================] - 0s 45ms/step - loss: 0.6090 - accuracy: 0.7500 - val_loss: 0.6576 - val_accuracy: 0.5294\n",
      "Epoch 12/80\n",
      "7/7 [==============================] - 0s 44ms/step - loss: 0.6011 - accuracy: 0.7885 - val_loss: 0.6602 - val_accuracy: 0.5294\n",
      "Epoch 13/80\n",
      "7/7 [==============================] - 0s 43ms/step - loss: 0.5942 - accuracy: 0.7788 - val_loss: 0.6604 - val_accuracy: 0.5294\n",
      "Epoch 14/80\n",
      "7/7 [==============================] - 0s 43ms/step - loss: 0.5866 - accuracy: 0.7981 - val_loss: 0.6584 - val_accuracy: 0.5294\n",
      "Epoch 15/80\n",
      "7/7 [==============================] - 0s 42ms/step - loss: 0.5802 - accuracy: 0.7981 - val_loss: 0.6593 - val_accuracy: 0.5294\n",
      "Epoch 16/80\n",
      "7/7 [==============================] - 0s 44ms/step - loss: 0.5727 - accuracy: 0.8077 - val_loss: 0.6581 - val_accuracy: 0.5294\n",
      "Epoch 17/80\n",
      "7/7 [==============================] - 0s 42ms/step - loss: 0.5687 - accuracy: 0.7981 - val_loss: 0.6540 - val_accuracy: 0.5294\n",
      "Epoch 18/80\n",
      "7/7 [==============================] - 0s 43ms/step - loss: 0.5600 - accuracy: 0.8269 - val_loss: 0.6536 - val_accuracy: 0.5294\n",
      "Epoch 19/80\n",
      "7/7 [==============================] - 0s 44ms/step - loss: 0.5532 - accuracy: 0.8173 - val_loss: 0.6550 - val_accuracy: 0.5294\n",
      "Epoch 20/80\n",
      "7/7 [==============================] - 0s 43ms/step - loss: 0.5471 - accuracy: 0.8173 - val_loss: 0.6539 - val_accuracy: 0.5294\n",
      "Epoch 21/80\n",
      "7/7 [==============================] - 0s 42ms/step - loss: 0.5407 - accuracy: 0.8365 - val_loss: 0.6560 - val_accuracy: 0.5294\n",
      "Epoch 22/80\n",
      "7/7 [==============================] - 0s 45ms/step - loss: 0.5346 - accuracy: 0.8365 - val_loss: 0.6589 - val_accuracy: 0.5294\n",
      "Epoch 23/80\n",
      "7/7 [==============================] - 0s 44ms/step - loss: 0.5286 - accuracy: 0.8462 - val_loss: 0.6595 - val_accuracy: 0.5294\n",
      "Epoch 24/80\n",
      "7/7 [==============================] - 0s 43ms/step - loss: 0.5222 - accuracy: 0.8654 - val_loss: 0.6571 - val_accuracy: 0.5294\n",
      "Epoch 25/80\n",
      "7/7 [==============================] - 0s 43ms/step - loss: 0.5164 - accuracy: 0.8846 - val_loss: 0.6609 - val_accuracy: 0.5294\n",
      "Epoch 26/80\n",
      "7/7 [==============================] - 0s 43ms/step - loss: 0.5113 - accuracy: 0.8654 - val_loss: 0.6595 - val_accuracy: 0.5294\n",
      "Epoch 27/80\n",
      "7/7 [==============================] - 0s 43ms/step - loss: 0.5047 - accuracy: 0.8846 - val_loss: 0.6575 - val_accuracy: 0.5294\n",
      "Epoch 28/80\n",
      "7/7 [==============================] - 0s 44ms/step - loss: 0.4989 - accuracy: 0.9038 - val_loss: 0.6587 - val_accuracy: 0.5294\n",
      "Epoch 29/80\n",
      "7/7 [==============================] - 0s 43ms/step - loss: 0.4928 - accuracy: 0.9038 - val_loss: 0.6603 - val_accuracy: 0.5294\n",
      "Epoch 30/80\n",
      "7/7 [==============================] - 0s 44ms/step - loss: 0.4870 - accuracy: 0.9135 - val_loss: 0.6599 - val_accuracy: 0.5294\n",
      "Epoch 31/80\n",
      "7/7 [==============================] - 0s 43ms/step - loss: 0.4808 - accuracy: 0.9135 - val_loss: 0.6596 - val_accuracy: 0.5294\n",
      "Epoch 32/80\n",
      "7/7 [==============================] - 0s 44ms/step - loss: 0.4751 - accuracy: 0.9135 - val_loss: 0.6583 - val_accuracy: 0.5294\n",
      "Epoch 33/80\n",
      "7/7 [==============================] - 0s 43ms/step - loss: 0.4705 - accuracy: 0.9231 - val_loss: 0.6614 - val_accuracy: 0.5294\n",
      "Epoch 34/80\n",
      "7/7 [==============================] - 0s 42ms/step - loss: 0.4645 - accuracy: 0.9135 - val_loss: 0.6605 - val_accuracy: 0.5294\n",
      "Epoch 35/80\n",
      "7/7 [==============================] - 0s 43ms/step - loss: 0.4583 - accuracy: 0.9231 - val_loss: 0.6592 - val_accuracy: 0.5294\n",
      "Epoch 36/80\n",
      "7/7 [==============================] - 0s 44ms/step - loss: 0.4535 - accuracy: 0.9231 - val_loss: 0.6612 - val_accuracy: 0.5294\n",
      "Epoch 37/80\n",
      "7/7 [==============================] - 0s 43ms/step - loss: 0.4481 - accuracy: 0.9231 - val_loss: 0.6633 - val_accuracy: 0.5294\n",
      "Epoch 38/80\n",
      "7/7 [==============================] - 0s 42ms/step - loss: 0.4429 - accuracy: 0.9231 - val_loss: 0.6628 - val_accuracy: 0.5294\n",
      "Epoch 39/80\n",
      "7/7 [==============================] - 0s 45ms/step - loss: 0.4372 - accuracy: 0.9423 - val_loss: 0.6637 - val_accuracy: 0.5294\n",
      "Epoch 40/80\n",
      "7/7 [==============================] - 0s 43ms/step - loss: 0.4317 - accuracy: 0.9327 - val_loss: 0.6681 - val_accuracy: 0.5294\n",
      "Epoch 41/80\n",
      "7/7 [==============================] - 0s 42ms/step - loss: 0.4276 - accuracy: 0.9423 - val_loss: 0.6710 - val_accuracy: 0.5294\n",
      "Epoch 42/80\n",
      "7/7 [==============================] - 0s 44ms/step - loss: 0.4215 - accuracy: 0.9615 - val_loss: 0.6722 - val_accuracy: 0.5294\n",
      "Epoch 43/80\n",
      "7/7 [==============================] - 0s 43ms/step - loss: 0.4173 - accuracy: 0.9615 - val_loss: 0.6678 - val_accuracy: 0.5294\n",
      "Epoch 44/80\n",
      "7/7 [==============================] - 0s 44ms/step - loss: 0.4118 - accuracy: 0.9615 - val_loss: 0.6691 - val_accuracy: 0.5294\n",
      "Epoch 45/80\n",
      "7/7 [==============================] - 0s 43ms/step - loss: 0.4070 - accuracy: 0.9615 - val_loss: 0.6712 - val_accuracy: 0.5294\n",
      "Epoch 46/80\n",
      "7/7 [==============================] - 0s 43ms/step - loss: 0.4027 - accuracy: 0.9712 - val_loss: 0.6700 - val_accuracy: 0.5294\n",
      "Epoch 47/80\n",
      "7/7 [==============================] - 0s 44ms/step - loss: 0.3971 - accuracy: 0.9712 - val_loss: 0.6692 - val_accuracy: 0.5294\n",
      "Epoch 48/80\n",
      "7/7 [==============================] - 0s 44ms/step - loss: 0.3931 - accuracy: 0.9808 - val_loss: 0.6713 - val_accuracy: 0.5294\n",
      "Epoch 49/80\n",
      "7/7 [==============================] - 0s 43ms/step - loss: 0.3883 - accuracy: 0.9712 - val_loss: 0.6726 - val_accuracy: 0.5294\n",
      "Epoch 50/80\n",
      "7/7 [==============================] - 0s 44ms/step - loss: 0.3834 - accuracy: 0.9808 - val_loss: 0.6712 - val_accuracy: 0.5882\n",
      "Epoch 51/80\n",
      "7/7 [==============================] - 0s 43ms/step - loss: 0.3791 - accuracy: 0.9808 - val_loss: 0.6723 - val_accuracy: 0.5882\n",
      "Epoch 52/80\n",
      "7/7 [==============================] - 0s 43ms/step - loss: 0.3752 - accuracy: 0.9808 - val_loss: 0.6743 - val_accuracy: 0.5882\n",
      "Epoch 53/80\n",
      "7/7 [==============================] - 0s 43ms/step - loss: 0.3706 - accuracy: 0.9808 - val_loss: 0.6722 - val_accuracy: 0.5882\n",
      "Epoch 54/80\n",
      "7/7 [==============================] - 0s 44ms/step - loss: 0.3656 - accuracy: 0.9808 - val_loss: 0.6744 - val_accuracy: 0.5882\n",
      "Epoch 55/80\n",
      "7/7 [==============================] - 0s 42ms/step - loss: 0.3607 - accuracy: 0.9808 - val_loss: 0.6741 - val_accuracy: 0.5882\n",
      "Epoch 56/80\n",
      "7/7 [==============================] - 0s 43ms/step - loss: 0.3562 - accuracy: 0.9808 - val_loss: 0.6745 - val_accuracy: 0.6471\n",
      "Epoch 57/80\n",
      "7/7 [==============================] - 0s 44ms/step - loss: 0.3523 - accuracy: 0.9808 - val_loss: 0.6759 - val_accuracy: 0.6471\n",
      "Epoch 58/80\n",
      "7/7 [==============================] - 0s 42ms/step - loss: 0.3485 - accuracy: 0.9808 - val_loss: 0.6761 - val_accuracy: 0.6471\n",
      "Epoch 59/80\n",
      "7/7 [==============================] - 0s 42ms/step - loss: 0.3430 - accuracy: 0.9808 - val_loss: 0.6769 - val_accuracy: 0.6471\n",
      "Epoch 60/80\n",
      "7/7 [==============================] - 0s 44ms/step - loss: 0.3388 - accuracy: 0.9808 - val_loss: 0.6791 - val_accuracy: 0.6471\n",
      "Epoch 61/80\n",
      "7/7 [==============================] - 0s 42ms/step - loss: 0.3348 - accuracy: 0.9808 - val_loss: 0.6789 - val_accuracy: 0.6471\n",
      "Epoch 62/80\n",
      "7/7 [==============================] - 0s 44ms/step - loss: 0.3300 - accuracy: 0.9808 - val_loss: 0.6766 - val_accuracy: 0.6471\n",
      "Epoch 63/80\n",
      "7/7 [==============================] - 0s 43ms/step - loss: 0.3262 - accuracy: 0.9904 - val_loss: 0.6820 - val_accuracy: 0.6471\n",
      "Epoch 64/80\n",
      "7/7 [==============================] - 0s 44ms/step - loss: 0.3218 - accuracy: 0.9904 - val_loss: 0.6833 - val_accuracy: 0.6471\n",
      "Epoch 65/80\n",
      "7/7 [==============================] - 0s 43ms/step - loss: 0.3183 - accuracy: 0.9904 - val_loss: 0.6845 - val_accuracy: 0.6471\n",
      "Epoch 66/80\n",
      "7/7 [==============================] - 0s 45ms/step - loss: 0.3135 - accuracy: 0.9904 - val_loss: 0.6835 - val_accuracy: 0.6471\n",
      "Epoch 67/80\n",
      "7/7 [==============================] - 0s 42ms/step - loss: 0.3095 - accuracy: 0.9904 - val_loss: 0.6834 - val_accuracy: 0.6471\n",
      "Epoch 68/80\n",
      "7/7 [==============================] - 0s 42ms/step - loss: 0.3055 - accuracy: 0.9808 - val_loss: 0.6837 - val_accuracy: 0.6471\n",
      "Epoch 69/80\n",
      "7/7 [==============================] - 0s 45ms/step - loss: 0.3019 - accuracy: 0.9904 - val_loss: 0.6872 - val_accuracy: 0.6471\n",
      "Epoch 70/80\n",
      "7/7 [==============================] - 0s 43ms/step - loss: 0.2976 - accuracy: 0.9904 - val_loss: 0.6881 - val_accuracy: 0.6471\n",
      "Epoch 71/80\n",
      "7/7 [==============================] - 0s 44ms/step - loss: 0.2939 - accuracy: 0.9904 - val_loss: 0.6892 - val_accuracy: 0.6471\n",
      "Epoch 72/80\n",
      "7/7 [==============================] - 0s 42ms/step - loss: 0.2904 - accuracy: 0.9904 - val_loss: 0.6885 - val_accuracy: 0.6471\n",
      "Epoch 73/80\n",
      "7/7 [==============================] - 0s 44ms/step - loss: 0.2866 - accuracy: 0.9904 - val_loss: 0.6897 - val_accuracy: 0.6471\n",
      "Epoch 74/80\n",
      "7/7 [==============================] - 0s 43ms/step - loss: 0.2828 - accuracy: 0.9904 - val_loss: 0.6929 - val_accuracy: 0.6471\n",
      "Epoch 75/80\n",
      "7/7 [==============================] - 0s 43ms/step - loss: 0.2793 - accuracy: 0.9904 - val_loss: 0.6963 - val_accuracy: 0.6471\n",
      "Epoch 76/80\n",
      "7/7 [==============================] - 0s 42ms/step - loss: 0.2757 - accuracy: 1.0000 - val_loss: 0.6971 - val_accuracy: 0.6471\n",
      "Epoch 77/80\n",
      "7/7 [==============================] - 0s 42ms/step - loss: 0.2717 - accuracy: 0.9904 - val_loss: 0.6978 - val_accuracy: 0.6471\n",
      "Epoch 78/80\n",
      "7/7 [==============================] - 0s 44ms/step - loss: 0.2684 - accuracy: 0.9904 - val_loss: 0.7013 - val_accuracy: 0.6471\n",
      "Epoch 79/80\n",
      "7/7 [==============================] - 0s 43ms/step - loss: 0.2647 - accuracy: 0.9904 - val_loss: 0.6997 - val_accuracy: 0.6471\n",
      "Epoch 80/80\n",
      "7/7 [==============================] - 0s 42ms/step - loss: 0.2614 - accuracy: 1.0000 - val_loss: 0.7008 - val_accuracy: 0.6471\n"
     ]
    }
   ],
   "source": [
    "epoch=80\n",
    "bz=16\n",
    "history = model.fit(x=[input_training, age_training], y=ground_truth_training, epochs=epoch, batch_size=bz, \n",
    "                    validation_data=[[input_val, age_val], ground_truth_val])\n",
    "# history = model.fit(x=[input_training, age_training], y=ground_truth_training, epochs=50, batch_size=64, \n",
    "#                     validation_data=[[input_val, age_val], ground_truth_val], \n",
    "#                     callbacks=checkpoint)"
   ]
  },
  {
   "cell_type": "code",
   "execution_count": 36,
   "metadata": {},
   "outputs": [],
   "source": [
    "savepath = path_project + 'Thesis/Experiments_Record/my_code/seg+/seg/5/'\n",
    "\n",
    "model.save(savepath + 'surv_pred3.h5')\n",
    "\n",
    "import pickle\n",
    "with open(savepath + 'log_history.txt', 'wb') as file_txt:\n",
    "    pickle.dump(history.history, file_txt)\n",
    "\n",
    "# with open('log.txt','rb') as file_txt:\n",
    "#     history=pickle.load(file_txt)"
   ]
  },
  {
   "cell_type": "code",
   "execution_count": 37,
   "metadata": {
    "colab": {
     "base_uri": "https://localhost:8080/",
     "height": 1000
    },
    "executionInfo": {
     "elapsed": 2017,
     "status": "ok",
     "timestamp": 1649410633861,
     "user": {
      "displayName": "Qiyuan Lyu",
      "userId": "17924735661076172645"
     },
     "user_tz": -60
    },
    "id": "XurR1l0iQphj",
    "outputId": "7cc0a654-5566-413e-b219-e2aa85386c7f"
   },
   "outputs": [
    {
     "data": {
      "image/png": "[encoded data removed]",
      "text/plain": [
       "<Figure size 432x288 with 1 Axes>"
      ]
     },
     "metadata": {},
     "output_type": "display_data"
    },
    {
     "data": {
      "image/png": "[encoded data removed]",
      "text/plain": [
       "<Figure size 432x288 with 1 Axes>"
      ]
     },
     "metadata": {},
     "output_type": "display_data"
    }
   ],
   "source": [
    "plt.rcParams[\"axes.grid\"] = False\n",
    "plt.plot(history.history['loss'], color='blue', label='training loss')\n",
    "plt.plot(history.history[accu_metric], color='red', label='training accuracy')\n",
    "plt.ylim(0, max(max(history.history['loss'])+0.4, max(history.history[accu_metric])+0.4))\n",
    "plt.legend()\n",
    "plt.title('Training Curve')\n",
    "plt.ylabel('Loss')\n",
    "plt.xlabel('epochs')\n",
    "s = savepath + 'epochwise_training.pdf'\n",
    "plt.savefig(s)\n",
    "plt.show()\n",
    "plt.close()\n",
    "\n",
    "plt.rcParams[\"axes.grid\"] = False\n",
    "plt.plot(history.history['val_loss'], color='blue', label='validation loss')\n",
    "plt.plot(history.history['val_' + accu_metric], color='red', label='validation accuracy')\n",
    "plt.ylim(0,max(max(history.history['val_loss'])+0.4, max(history.history['val_' + accu_metric])+0.4))\n",
    "plt.legend(bbox_to_anchor=(1,1))\n",
    "plt.title('Validation Curve')\n",
    "plt.ylabel('Accuracy')\n",
    "plt.xlabel('epochs')\n",
    "s = savepath + 'epochwise_validation.pdf'\n",
    "plt.savefig(s)\n",
    "plt.show()\n",
    "plt.close()"
   ]
  },
  {
   "cell_type": "code",
   "execution_count": 38,
   "metadata": {},
   "outputs": [
    {
     "data": {
      "image/png": "[encoded data removed]",
      "text/plain": [
       "<Figure size 432x288 with 1 Axes>"
      ]
     },
     "metadata": {},
     "output_type": "display_data"
    },
    {
     "data": {
      "image/png": "[encoded data removed]",
      "text/plain": [
       "<Figure size 432x288 with 1 Axes>"
      ]
     },
     "metadata": {},
     "output_type": "display_data"
    }
   ],
   "source": [
    "plt.rcParams[\"axes.grid\"] = False\n",
    "plt.plot(history.history['loss'], color='blue', label='training loss')\n",
    "plt.plot(history.history['val_loss'], color='red', label='validation loss')\n",
    "plt.ylim(0, max(max(history.history['loss'])+0.2, max(history.history['val_loss'])+0.2))\n",
    "plt.legend()\n",
    "plt.title('Loss vs epochs')\n",
    "plt.ylabel('Loss')\n",
    "plt.xlabel('epochs')\n",
    "s = savepath + 'epochwise_loss.pdf'\n",
    "plt.savefig(s)\n",
    "plt.show()\n",
    "plt.close()\n",
    "\n",
    "plt.rcParams[\"axes.grid\"] = False\n",
    "plt.plot(history.history[accu_metric], color='blue', label='training accuracy')\n",
    "plt.plot(history.history['val_' + accu_metric], color='red', label='validation accuracy')\n",
    "plt.ylim(0,max(max(history.history[accu_metric])+0.4, max(history.history['val_' + accu_metric])+0.4))\n",
    "plt.legend(bbox_to_anchor=(1,1))\n",
    "plt.title('Accuracy vs epochs')\n",
    "plt.ylabel('Accuracy')\n",
    "plt.xlabel('epochs')\n",
    "s = savepath + 'epochwise_accuracy.pdf'\n",
    "plt.savefig(s)\n",
    "plt.show()\n",
    "plt.close()"
   ]
  },
  {
   "cell_type": "code",
   "execution_count": 39,
   "metadata": {
    "id": "yTZJUZlyy9QG"
   },
   "outputs": [
    {
     "name": "stdout",
     "output_type": "stream",
     "text": [
      "[[8 0]\n",
      " [6 3]]\n",
      "accuracy on validation set:  0.6470588235294118\n"
     ]
    },
    {
     "data": {
      "image/png": "[encoded data removed]",
      "text/plain": [
       "<Figure size 432x288 with 2 Axes>"
      ]
     },
     "metadata": {},
     "output_type": "display_data"
    }
   ],
   "source": [
    "# confusion matrix on validation set\n",
    "y_pred = model.predict(x=[input_val, age_val])\n",
    "y_true = ground_truth_val\n",
    "labels = ['Short', 'Long']\n",
    "\n",
    "sns.set()\n",
    "f,ax=plt.subplots()\n",
    "C2= confusion_matrix(y_true.argmax(axis=1), y_pred.argmax(axis=1))\n",
    "\n",
    "print(C2)\n",
    "sns.heatmap(C2,annot=True,ax=ax)\n",
    "xlocations = np.array(range(len(labels)))+0.5\n",
    "plt.xticks(xlocations, labels)\n",
    "plt.yticks(xlocations, labels)\n",
    "ax.set_title('confusion matrix')\n",
    "ax.set_xlabel('Predict')\n",
    "ax.set_ylabel('True')\n",
    "\n",
    "print('accuracy on validation set: ', (C2[0][0]+C2[1][1])/(C2[0][0]+C2[1][1]+C2[0][1]+C2[1][0]))\n",
    "\n",
    "plt.savefig(savepath + 'confusion_matrix_val.pdf')\n",
    "\n",
    "# pd.crosstab(y_true.argmax(axis=1), y_pred.argmax(axis=1), rownames=['label'], colnames=['predict'])"
   ]
  },
  {
   "cell_type": "code",
   "execution_count": 40,
   "metadata": {},
   "outputs": [
    {
     "name": "stdout",
     "output_type": "stream",
     "text": [
      "True Label:  [0 0 0 1 1 0 0 0 0 0 0 1 0 1 1 1 1 0 1 0 1 1 0 1 1 1 1 0 1 1 1 0 1 0 1 0 1\n",
      " 1 1 0 1 0 0 0 1 1 1 1 1 1 0 0 1 0 1 0 1 1 1 0 0 1 0 0 0 0 1 0 1 0 0 0 0 1\n",
      " 0 0 0 0 1 1 1 0 1 0 0 1 0 1 1 1 1 1 1 1 1 1 0 1 0 1 0 1 0 0]\n",
      "Prediction:  [0 0 0 1 1 0 0 0 0 0 0 1 0 1 1 1 1 0 1 0 1 1 0 1 1 1 1 0 1 1 1 0 1 0 1 0 1\n",
      " 1 1 0 1 0 0 0 1 1 1 1 1 1 0 0 1 0 1 0 1 1 1 0 0 1 0 0 0 0 1 0 1 0 0 0 0 1\n",
      " 0 0 0 0 1 1 1 0 1 0 0 1 0 1 1 1 1 1 1 1 1 1 0 1 0 1 0 1 0 0]\n",
      "[0 0 0 0 0 0 0 0 0 0 0 0 0 0 0 0 0 0 0 0 0 0 0 0 0 0 0 0 0 0 0 0 0 0 0 0 0\n",
      " 0 0 0 0 0 0 0 0 0 0 0 0 0 0 0 0 0 0 0 0 0 0 0 0 0 0 0 0 0 0 0 0 0 0 0 0 0\n",
      " 0 0 0 0 0 0 0 0 0 0 0 0 0 0 0 0 0 0 0 0 0 0 0 0 0 0 0 0 0 0]\n",
      "[[49  0]\n",
      " [ 0 55]]\n",
      "accuracy is  1.0\n"
     ]
    },
    {
     "data": {
      "image/png": "[encoded data removed]",
      "text/plain": [
       "<Figure size 432x288 with 2 Axes>"
      ]
     },
     "metadata": {},
     "output_type": "display_data"
    }
   ],
   "source": [
    "y_pred_training = model.predict(x=[input_training, age_training])\n",
    "y_true_training = ground_truth_training\n",
    "labels = ['Short', 'Long']\n",
    "\n",
    "print('True Label: ', y_true_training.argmax(axis=1))\n",
    "print('Prediction: ', y_pred_training.argmax(axis=1))\n",
    "print(y_true_training.argmax(axis=1) - y_pred_training.argmax(axis=1))\n",
    "\n",
    "sns.set()\n",
    "f,ax=plt.subplots()\n",
    "C2= confusion_matrix(y_true_training.argmax(axis=1), y_pred_training.argmax(axis=1))\n",
    "\n",
    "print(C2)\n",
    "sns.heatmap(C2,annot=True,ax=ax)\n",
    "xlocations = np.array(range(len(labels)))+0.5\n",
    "plt.xticks(xlocations, labels)\n",
    "plt.yticks(xlocations, labels)\n",
    "ax.set_title('confusion matrix')\n",
    "ax.set_xlabel('Predict')\n",
    "ax.set_ylabel('True')\n",
    "\n",
    "plt.savefig(savepath + 'confusion_matrix_training.pdf')\n",
    "\n",
    "print('accuracy is ', (C2[0][0]+C2[1][1])/(C2[0][0]+C2[0][1]+C2[1][0]+C2[1][1]))"
   ]
  },
  {
   "cell_type": "code",
   "execution_count": 41,
   "metadata": {
    "colab": {
     "base_uri": "https://localhost:8080/"
    },
    "executionInfo": {
     "elapsed": 2709,
     "status": "ok",
     "timestamp": 1649342936105,
     "user": {
      "displayName": "Qiyuan Lyu",
      "userId": "17924735661076172645"
     },
     "user_tz": -60
    },
    "id": "U0JdNRxzhCE2",
    "outputId": "63486b2f-23e8-43eb-bcd4-3f94a6042dbf"
   },
   "outputs": [
    {
     "name": "stdout",
     "output_type": "stream",
     "text": [
      "4/4 [==============================] - 0s 25ms/step\n",
      "accuracy: 1.0\n",
      "precision: 1.0\n",
      "recall: 1.0\n",
      "f1score: 1.0\n",
      "Macro-F1: 1.0\n",
      "Micro-F1: 1.0\n",
      "\n",
      "\n",
      "\n",
      "1/1 [==============================] - 0s 11ms/step\n",
      "accuracy_val: 0.6470588235294118\n",
      "precision_val: 1.0\n",
      "recall_val: 0.3333333333333333\n",
      "f1score_val: 0.5\n",
      "Macro-F1_val: 0.6136363636363636\n",
      "Micro-F1_val: 0.6470588235294118\n"
     ]
    }
   ],
   "source": [
    "from sklearn.metrics import confusion_matrix, f1_score, precision_score, recall_score,accuracy_score\n",
    "\n",
    "# # prediction on training set\n",
    "# y_predict = model.predict([input_training, age], verbose=1)\n",
    "# # y_predict = (y_predict > 0.007).astype(int)\n",
    "# y_predict = (y_predict > 0.01).astype(int)\n",
    "# y_true = np.reshape(ground_truth, [-1])\n",
    "# y_pred = np.reshape(y_predict, [-1])\n",
    "y_pred = model.predict([input_training, age_training], verbose=1)\n",
    "y_pred = y_pred.argmax(axis=1)\n",
    "y_true = ground_truth_training\n",
    "y_true = y_true.argmax(axis=1)\n",
    "\n",
    "# evalution index\n",
    "accuracy = accuracy_score(y_true, y_pred)\n",
    "precision = precision_score(y_true, y_pred)\n",
    "recall = recall_score(y_true, y_pred, average='binary')\n",
    "f1score = f1_score(y_true, y_pred, average='binary')\n",
    "\n",
    "# Micro F1: 将n分类的评价拆成n个二分类的评价，将n个二分类评价的TP、FP、RN对应相加，计算评价准确率和召回率，由这2个准确率和召回率计算的F1 score即为Micro F1。\n",
    "# Macro F1: 将n分类的评价拆成n个二分类的评价，计算每个二分类的F1 score，n个F1 score的平均值即为Macro F1。\n",
    "# 一般来讲，Macro F1、Micro F1高的分类效果好。Macro F1受样本数量少的类别影响大。\n",
    "micro_f1 = f1_score(y_true, y_pred,average='micro')\n",
    "macro_f1 = f1_score(y_true, y_pred,average='macro')\n",
    "\n",
    "print('accuracy:',accuracy)\n",
    "print('precision:',precision)\n",
    "print('recall:',recall)\n",
    "print('f1score:',f1score)\n",
    "print('Macro-F1: {}'.format(macro_f1))\n",
    "print('Micro-F1: {}'.format(micro_f1))\n",
    "\n",
    "# prediction on validation set\n",
    "print('\\n\\n')\n",
    "# y_predict_val = model.predict([input_to_val, age_val], verbose=1)\n",
    "# y_predict_val = (y_predict_val > 0.01).astype(int)\n",
    "# y_true_val = np.reshape(ground_truth_val, [-1])\n",
    "# y_pred_val = np.reshape(y_predict_val, [-1])\n",
    "y_pred_val = model.predict([input_val, age_val], verbose=1)\n",
    "y_pred_val = y_pred_val.argmax(axis=1)\n",
    "y_true_val = ground_truth_val\n",
    "y_true_val = y_true_val.argmax(axis=1)\n",
    "\n",
    "# evalution index\n",
    "accuracy_val = accuracy_score(y_true_val, y_pred_val)\n",
    "precision_val = precision_score(y_true_val, y_pred_val)\n",
    "recall_val = recall_score(y_true_val, y_pred_val, average='binary')\n",
    "f1score_val = f1_score(y_true_val, y_pred_val, average='binary')\n",
    "\n",
    "# Micro F1: 将n分类的评价拆成n个二分类的评价，将n个二分类评价的TP、FP、RN对应相加，计算评价准确率和召回率，由这2个准确率和召回率计算的F1 score即为Micro F1。\n",
    "# Macro F1: 将n分类的评价拆成n个二分类的评价，计算每个二分类的F1 score，n个F1 score的平均值即为Macro F1。\n",
    "# 一般来讲，Macro F1、Micro F1高的分类效果好。Macro F1受样本数量少的类别影响大。\n",
    "micro_f1_val = f1_score(y_true_val, y_pred_val,average='micro')\n",
    "macro_f1_val = f1_score(y_true_val, y_pred_val,average='macro')\n",
    "\n",
    "print('accuracy_val:',accuracy_val)\n",
    "print('precision_val:',precision_val)\n",
    "print('recall_val:',recall_val)\n",
    "print('f1score_val:',f1score_val)\n",
    "print('Macro-F1_val: {}'.format(macro_f1_val))\n",
    "print('Micro-F1_val: {}'.format(micro_f1_val))"
   ]
  },
  {
   "cell_type": "code",
   "execution_count": 42,
   "metadata": {},
   "outputs": [],
   "source": [
    "############################### save the hyperparameters and metrics ###############################\n",
    "import tensorflow.keras.backend as K\n",
    "trainable_count = np.sum([K.count_params(w) for w in model.trainable_weights])\n",
    "non_trainable_count = np.sum([K.count_params(w) for w in model.non_trainable_weights])\n",
    "\n",
    "with open(savepath + 'log.txt','w',encoding='utf-8') as f:\n",
    "    f.write('optimizer: ' + 'sgd' + '\\n')\n",
    "    f.write('learning rate: ' + str(lr) + '\\n')\n",
    "    f.write('decay rate: ' + str(decay_rate) + '\\n')\n",
    "    f.write('epochs: ' + str(epoch) + '\\n')\n",
    "    f.write('batch size: ' + str(bz) + '\\n')\n",
    "    f.write('total parameters: ' + str(int(trainable_count + non_trainable_count)))\n",
    "    \n",
    "    f.write('\\n\\n######################################\\n\\n')\n",
    "    f.write('accuracy: ' + str(accuracy_val) + '\\n')\n",
    "    f.write('precision: ' + str(precision_val) + '\\n')\n",
    "    f.write('recall: ' + str(recall_val) + '\\n')\n",
    "    f.write('f1score: ' + str(f1score_val) + '\\n')\n",
    "    \n",
    "    f.write('\\n\\n######################################\\n\\n')\n",
    "    model.summary(print_fn=lambda x: f.write(x + '\\n'))"
   ]
  }
 ],
 "metadata": {
  "colab": {
   "collapsed_sections": [],
   "name": "test_2way.ipynb",
   "provenance": [],
   "toc_visible": true
  },
  "kernelspec": {
   "display_name": "Python 3 (ipykernel)",
   "language": "python",
   "name": "python3"
  },
  "language_info": {
   "codemirror_mode": {
    "name": "ipython",
    "version": 3
   },
   "file_extension": ".py",
   "mimetype": "text/x-python",
   "name": "python",
   "nbconvert_exporter": "python",
   "pygments_lexer": "ipython3",
   "version": "3.9.7"
  }
 },
 "nbformat": 4,
 "nbformat_minor": 4
}
